{
 "cells": [
  {
   "cell_type": "markdown",
   "metadata": {},
   "source": [
    "# Examen Módulo 1 - Ecuaciones diferenciales. <font color =blue> Tipo de examen 1.  </font>\n",
    "\n",
    "Lea cuidadosamente las siguientes indicaciones antes de comenzar el examen:\n",
    "\n",
    "- Para resolver el examen edite este mismo archivo y renómbrelo de la siguiente manera: *Examen1_ApellidoNombre*, donde *ApellidoNombre* corresponde a su apellido paterno con la inicial en mayúscula, seguido de su primer nombre con la inicial en mayúscula **sin acentos**. Por ejemplo, en mi caso el nombre del archivo sería Examen1_LopezMichel.\n",
    "- Resuelva los puntos en el espacio provisto. Si requiere agregar más celdas para código o escritura, hágalo.\n",
    "- Recuerde que también se está evaluando su capacidad de interpretar los resultados. Escriba sus interpretaciones/conclusiones en celdas utilizando *Markdown*.\n",
    "- El formato de presentación de todo el examen en general debe ser adecuado. Use tamaños de letra, colores, etiquetas, etcétera.\n",
    "- No se resuelven dudas de ningún tipo por los profesores de la asignatura. Por favor, absténgase de preguntar.\n",
    "- Revise bien el tipo de examen. Sólo se le calificará si realiza el tipo de examen asignado."
   ]
  },
  {
   "cell_type": "markdown",
   "metadata": {},
   "source": [
    "# Las cosas del amor.\n",
    "\n",
    "Consideramos un modelo simple de la dinámica del amor/odio en una pareja, propuesto por Strogatz en 1988.\n",
    "\n",
    "- Strogatz, S.H. (1988) *Love affairs and differential equations*, Math. Magazine 61, 35."
   ]
  },
  {
   "cell_type": "markdown",
   "metadata": {},
   "source": [
    "### Primer punto (50 puntos).\n",
    "\n",
    "Romeo está enamorado de Julieta, pero en este caso, Julieta tiene sentimientos volubles. Mientras Romeo más la ama, ella quiere huir de él. Pero cuando Romeo no muestra atención, Julieta lo empieza a ver muy atractivo.\n",
    "\n",
    "Del otro lado, Romeo tiene sentimientos imitativos. Esto quiere decir que se pone cariñoso cuando ella lo ama y se vuelve frío cuando ella lo odia.\n",
    "\n",
    "Sean:\n",
    "\n",
    "- $x_1(t)$ : amor/odio de Romeo hacia Julieta en el tiempo  $t$ .\n",
    "- $x_2(t)$ : amor/odio de Julieta hacia Romeo en el tiempo  $t$ .\n",
    "\n",
    "Consideraremos que un valor positivo de  $x_1$  o  $x_2$  corresponde a amor, y que un valor negativo corresponde a odio.\n",
    "\n",
    "Un modelo del romance anteriormente descrito es\n",
    "$$ \\frac{dx_1}{dt}=ax_2,$$\n",
    "$$ \\frac{dx_2}{dt}=−bx_1$$\n",
    " \n",
    "con  $a$  y  $b$  constantes positivas. Definimos  $x=[x_1,x_2]^T$.\n",
    "\n",
    "1. (20 puntos) Simular este sistema eligiendo los parámetros  $a=b=1$  y condiciones iniciales  $x(0)=[x1(0),x2(0)]^T=[5,5]^T$, usando un vector de tiempo de $0$ a $50$ (unidades de tiempo).\n",
    "2. (15 puntos)\n",
    "    - (10 puntos) Graficar las soluciones en el tiempo, es decir,  $x_1$  vs. $t$  y  $x_2$ vs  $t$.  \n",
    "    - (5 puntos) ¿Qué forma tienen dichas soluciones? ¿Qué se puede decir del amor/odio de Romeo hacia Julieta? ¿Qué se puede decir del amor/odio de Julieta hacia Romeo?\n",
    "3. (15 puntos)\n",
    "    - (10 puntos) Graficar el retrato de fase, es decir,  $x_2$  vs  $x_1$.\n",
    "    - (5 puntos) ¿Cómo es el amor de Romeo y Julieta? ¿Considera usted sano este tipo de amor?"
   ]
  },
  {
   "cell_type": "code",
   "execution_count": 1,
   "metadata": {},
   "outputs": [
    {
     "data": {
      "text/latex": [
       "$$- a \\operatorname{x_{2}}{\\left (t \\right )} + \\frac{d}{d t} \\operatorname{x_{1}}{\\left (t \\right )} = 0$$"
      ],
      "text/plain": [
       "           d            \n",
       "-a⋅x₂(t) + ──(x₁(t)) = 0\n",
       "           dt           "
      ]
     },
     "metadata": {},
     "output_type": "display_data"
    },
    {
     "data": {
      "text/latex": [
       "$$\\operatorname{x_{1}}{\\left (t \\right )} = C_{1} + a \\int \\operatorname{x_{2}}{\\left (t \\right )}\\, dt$$"
      ],
      "text/plain": [
       "               ⌠         \n",
       "x₁(t) = C₁ + a⋅⎮ x₂(t) dt\n",
       "               ⌡         "
      ]
     },
     "execution_count": 1,
     "metadata": {},
     "output_type": "execute_result"
    }
   ],
   "source": [
    "#solución simbólica de romeo a julieta\n",
    "import sympy as sym\n",
    "from sympy import init_printing; init_printing(use_latex='mathjax')\n",
    "from IPython.display import display\n",
    "t, a = sym.symbols('t a')\n",
    "x1 = sym.Function('x1')\n",
    "x2 = sym.Function('x2')\n",
    "eqn = sym.Eq(sym.Derivative(x1(t),t) - a*x2(t), 0)\n",
    "display(eqn)\n",
    "sym.dsolve(eqn, x1(t))"
   ]
  },
  {
   "cell_type": "markdown",
   "metadata": {},
   "source": [
    "despejar ambas ecuaciones para igualarlas a 0. Igualar ecuaciones, dejar de un lado x1 y del otro x2. Separarlas igualándolas a 0\n",
    "$$ \\frac{dx_1}{dt} - ax_2 = 0 ,\\frac{dx_2}{dt} + bx_1 =0$$\n",
    "\n",
    "$$ \\frac{dx_1}{dt} - ax_2 = \\frac{dx_2}{dt} + bx_1,$$\n",
    "\n",
    "$$ \\frac{dx_1}{dt}-bx_1 = \\frac{dx_2}{dt}=+ax_2$$ \n",
    "\n",
    "$$ \\frac{dx_1}{dt}=bx_1$$\n",
    "$$ \\frac{dx_2}{dt}=−ax_2$$"
   ]
  },
  {
   "cell_type": "code",
   "execution_count": 2,
   "metadata": {},
   "outputs": [
    {
     "name": "stdout",
     "output_type": "stream",
     "text": [
      "[[ 5.]\n",
      " [ 5.]]\n",
      "[[ 13.8716349 ]\n",
      " [  1.80223904]]\n",
      "[[ 38.48445037]\n",
      " [  0.64961303]]\n",
      "[[ 106.76844774]\n",
      " [   0.23415155]]\n",
      "[[  2.96210583e+02]\n",
      " [  8.43994108e-02]]\n",
      "[[  8.21785007e+02]\n",
      " [  3.04215835e-02]]\n",
      "[[  2.27990030e+03]\n",
      " [  1.09653938e-02]]\n",
      "[[  6.32518888e+03]\n",
      " [  3.95245242e-03]]\n",
      "[[  1.75481420e+04]\n",
      " [  1.42465331e-03]]\n",
      "[[  4.86842836e+04]\n",
      " [  5.13512012e-04]]\n",
      "[[  1.35066121e+05]\n",
      " [  1.85093986e-04]]\n",
      "[[  3.74717580e+05]\n",
      " [  6.67178423e-05]]\n",
      "[[  1.03958909e+06]\n",
      " [  2.40495211e-05]]\n",
      "[[  2.88416003e+06]\n",
      " [  8.66819620e-06]]\n",
      "[[  8.00160293e+06]\n",
      " [  3.12443085e-06]]\n",
      "[[  2.21990627e+07]\n",
      " [  1.12486476e-06]]\n",
      "[[  6.15874582e+07]\n",
      " [  4.06297099e-07]]\n",
      "[[  1.70863746e+08]\n",
      " [  1.47806647e-07]]\n",
      "[[  4.74031897e+08]\n",
      " [  5.21657575e-08]]\n",
      "[[  1.31511947e+09]\n",
      " [  1.83641781e-08]]\n",
      "[[  3.64857141e+09]\n",
      " [  7.02585022e-09]]\n",
      "[[  1.01223300e+10]\n",
      " [  2.62567884e-09]]\n",
      "[[  2.80826531e+10]\n",
      " [  9.75121162e-10]]\n",
      "[[  7.79104618e+10]\n",
      " [  2.12976561e-10]]\n",
      "[[  2.16149095e+11]\n",
      " [ -3.28481640e-10]]\n",
      "[[  5.99668261e+11]\n",
      " [ -4.59035692e-10]]\n",
      "[[  1.66367582e+12]\n",
      " [ -3.66320999e-10]]\n",
      "[[  4.61558069e+12]\n",
      " [ -3.94744840e-10]]\n",
      "[[  1.28051300e+13]\n",
      " [ -3.14701725e-10]]\n",
      "[[  3.55256173e+13]\n",
      " [ -1.95468876e-10]]\n",
      "[[  9.85596779e+13]\n",
      " [ -1.42210115e-10]]\n",
      "[[  2.73436772e+14]\n",
      " [ -8.89513530e-11]]\n",
      "[[  7.58603008e+14]\n",
      " [ -5.16762601e-11]]\n",
      "[[  2.10461278e+15]\n",
      " [ -5.00065501e-11]]\n",
      "[[  5.83888397e+15]\n",
      " [ -4.83368401e-11]]\n",
      "[[  1.61989732e+16]\n",
      " [ -4.66671301e-11]]\n",
      "[[  4.49412482e+16]\n",
      " [ -4.49974201e-11]]\n",
      "[[  1.24681717e+17]\n",
      " [ -4.33277102e-11]]\n",
      "[[  3.45907848e+17]\n",
      " [ -4.16580002e-11]]\n",
      "[[  9.59661468e+17]\n",
      " [ -3.99882902e-11]]\n",
      "[[  2.66241469e+18]\n",
      " [ -3.83185802e-11]]\n",
      "[[  7.38640885e+18]\n",
      " [ -3.66488702e-11]]\n",
      "[[  2.04923132e+19]\n",
      " [ -3.49791602e-11]]\n",
      "[[  5.68523771e+19]\n",
      " [ -3.33094502e-11]]\n",
      "[[  1.57727082e+20]\n",
      " [ -3.16397402e-11]]\n",
      "[[  4.37586497e+20]\n",
      " [ -2.99700302e-11]]\n",
      "[[  1.21400802e+21]\n",
      " [ -2.83003202e-11]]\n",
      "[[  3.36805517e+21]\n",
      " [ -2.66306102e-11]]\n",
      "[[  9.34408628e+21]\n",
      " [ -2.49609002e-11]]\n",
      "[[  2.59235505e+22]\n",
      " [ -2.32911902e-11]]\n"
     ]
    }
   ],
   "source": [
    "from scipy.integrate import odeint\n",
    "%matplotlib inline\n",
    "import matplotlib.pyplot as plt\n",
    "import numpy as np\n",
    "\n",
    "#solución numérica de romeo a julieta\n",
    "b=1\n",
    "def romeo(x1, t, b):\n",
    "    return b * x1\n",
    "# Vector de periodos\n",
    "tt = np.linspace(0,50)\n",
    "CC = odeint(romeo, 5, tt, args = (b,))\n",
    "\n",
    "#solución numérica de julieta a romeo\n",
    "a=1\n",
    "def julieta(x2, t, a):\n",
    "    return -a * x2\n",
    "# Vector de periodos\n",
    "tt = np.linspace(0,50)\n",
    "CC2 = odeint(julieta, 5, tt, args = (a,))\n",
    "\n",
    "for i in range(0,50):\n",
    "    x=[CC[i],CC2[i]]\n",
    "    x.append(CC[i])\n",
    "    x.append(CC2[i])\n",
    "    print (np.transpose(x))\n"
   ]
  },
  {
   "cell_type": "code",
   "execution_count": 52,
   "metadata": {},
   "outputs": [
    {
     "data": {
      "image/png": "[encoded data removed]",
      "text/plain": [
       "<matplotlib.figure.Figure at 0x21024445278>"
      ]
     },
     "metadata": {},
     "output_type": "display_data"
    },
    {
     "data": {
      "image/png": "[encoded data removed]",
      "text/plain": [
       "<matplotlib.figure.Figure at 0x21022b202b0>"
      ]
     },
     "metadata": {},
     "output_type": "display_data"
    }
   ],
   "source": [
    "%matplotlib inline\n",
    "import matplotlib.pyplot as plt\n",
    "\n",
    "# romeo a julieta\n",
    "def romeo(C, t, b):\n",
    "    return b * C\n",
    "    # Vector de periodos\n",
    "tt = np.linspace(0,50)\n",
    "CC = odeint(romeo, 5, tt, args = (b,))\n",
    "    # Gráfica\n",
    "plt.plot(tt, CC,'-',linewidth=3.0)          \n",
    "plt.xlabel('tiempo')                         # Etiqueta eje x\n",
    "plt.ylabel('amor')                           # Etiqueta eje y\n",
    "plt.title('Amor romeo a julieta')\n",
    "plt.show()                                  # Mostrar la figura\n",
    "\n",
    "\n",
    "# julieta a romeo\n",
    "def julieta(C, t, a):\n",
    "    return -a * C\n",
    "    # Vector de periodos\n",
    "tt = np.linspace(0,50)\n",
    "CC = odeint(julieta, 5, tt, args = (a,))\n",
    "    # Gráfica\n",
    "plt.plot(tt, CC,'-',linewidth=3.0)          \n",
    "plt.xlabel('tiempo')                         # Etiqueta eje x\n",
    "plt.ylabel('amor')                           # Etiqueta eje y\n",
    "plt.title('Amor julieta a romeo')\n",
    "plt.show()                                  # Mostrar la figura"
   ]
  },
  {
   "cell_type": "code",
   "execution_count": 20,
   "metadata": {},
   "outputs": [
    {
     "data": {
      "image/png": "[encoded data removed]",
      "text/plain": [
       "<matplotlib.figure.Figure at 0x24a7a4207f0>"
      ]
     },
     "metadata": {},
     "output_type": "display_data"
    }
   ],
   "source": [
    "\n",
    "plt.figure(figsize=(6,6))\n",
    "plt.scatter(CC,CC2,lw=4,s=3,cmap='viridis',c=CC)\n",
    "plt.xlabel('amor romeo a julieta')\n",
    "plt.ylabel('amor julieta a romeo')\n",
    "plt.show()"
   ]
  },
  {
   "cell_type": "code",
   "execution_count": null,
   "metadata": {
    "collapsed": true
   },
   "outputs": [],
   "source": []
  },
  {
   "cell_type": "code",
   "execution_count": null,
   "metadata": {
    "collapsed": true
   },
   "outputs": [],
   "source": []
  },
  {
   "cell_type": "markdown",
   "metadata": {},
   "source": [
    "### Segundo punto.\n",
    "En este punto consideraremos a Romeo y a Julieta como dos amantes cautelosos idénticos.\n",
    "\n",
    "Entonces, un modelo que describe este romance es\n",
    "\n",
    "$$\\frac{dx_1}{dt} = -ax_1 + bx_2$$\n",
    "$$\\frac{dx_2}{dt} = bx_1 -ax_2$$\n",
    " \n",
    "con  $a$  y  $b$  constantes positivas. Definimos  $x=[x_1,x_2]^T$.\n",
    "\n",
    "Simular este sistema y obtener gráficas de  $x_1$  vs.  $t$ ,  $x_2$  vs.  $t$ y  $x_2$  vs.  $x_1$  en cada uno de los siguientes casos. Además, concluya acerca de cómo es el amor entre Romeo y Julieta cuando  $t \\rightarrow \\infty$.\n",
    "\n",
    "\n",
    "1. (25 puntos) Para  $a=2$  y  $b=1$.\n",
    "\n",
    "    - $x(0)=[x_1(0),x_2(0)]^T =[2,1]^T$.\n",
    "    - $x(0)=[x_1(0),x_2(0)]^T =[−2,1]^T$.\n",
    "    - $x(0)=[x_1(0),x_2(0)]^T =[−2,−1]^T$.\n",
    "    - $x(0)=[x_1(0),x_2(0)]^T =[2,−1]^T$.\n",
    "2. (25 puntos) Para  $a=1$  y  $b=2$.\n",
    "    - $x(0)=[x_1(0),x_2(0)]T=[2,1]^T$.\n",
    "    - $x(0)=[x_1(0),x_2(0)]T=[−2,1]^T$.\n",
    "    - $x(0)=[x_1(0),x_2(0)]T=[−2,−1]^T$.\n",
    "    - $x(0)=[x_1(0),x_2(0)]T=[2,−1]^T$."
   ]
  },
  {
   "cell_type": "code",
   "execution_count": null,
   "metadata": {
    "collapsed": true
   },
   "outputs": [],
   "source": []
  }
 ],
 "metadata": {
  "kernelspec": {
   "display_name": "Python 3",
   "language": "python",
   "name": "python3"
  },
  "language_info": {
   "codemirror_mode": {
    "name": "ipython",
    "version": 3
   },
   "file_extension": ".py",
   "mimetype": "text/x-python",
   "name": "python",
   "nbconvert_exporter": "python",
   "pygments_lexer": "ipython3",
   "version": "3.6.1"
  }
 },
 "nbformat": 4,
 "nbformat_minor": 2
}
