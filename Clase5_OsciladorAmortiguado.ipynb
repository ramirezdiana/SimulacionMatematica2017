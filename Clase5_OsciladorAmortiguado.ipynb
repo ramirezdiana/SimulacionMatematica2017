{
 "cells": [
  {
   "cell_type": "code",
   "execution_count": 3,
   "metadata": {},
   "outputs": [],
   "source": [
    "import matplotlib.pyplot as plt\n",
    "import numpy as np\n",
    "from scipy.integrate import odeint\n",
    "%matplotlib inline\n",
    "import matplotlib as mlp\n",
    "label_size=14\n",
    "mlp.rcParams['xtick.labelsize']=label_size\n",
    "mlp.rcParams['ytick.labelsize']=label_size"
   ]
  },
  {
   "cell_type": "code",
   "execution_count": 7,
   "metadata": {
    "collapsed": true
   },
   "outputs": [],
   "source": [
    "k=3\n",
    "m=1\n",
    "b=10.5\n",
    "def armonico(variables, t):\n",
    "    x,y=variables\n",
    "    return [y,-k*x/m-b/m*y]\n",
    "inicial =[.6,.4]#posición inicial, velocidad inicial\n",
    "tiempo=np.arange(0,20,.01)\n",
    "resultado=odeint(armonico,inicial, tiempo)"
   ]
  },
  {
   "cell_type": "code",
   "execution_count": 8,
   "metadata": {},
   "outputs": [
    {
     "data": {
      "text/plain": [
       "array([ 0.6       ,  0.60371004,  0.60687836, ...,  0.00185782,\n",
       "        0.00185236,  0.00184693])"
      ]
     },
     "execution_count": 8,
     "metadata": {},
     "output_type": "execute_result"
    }
   ],
   "source": [
    "xx,yy =resultado.T\n",
    "xx"
   ]
  },
  {
   "cell_type": "code",
   "execution_count": 9,
   "metadata": {},
   "outputs": [
    {
     "data": {
      "image/png": "[encoded data removed]",
      "text/plain": [
       "<matplotlib.figure.Figure at 0x1b571428240>"
      ]
     },
     "metadata": {},
     "output_type": "display_data"
    }
   ],
   "source": [
    "plt.plot(tiempo,xx,c='r',label='Posicion')\n",
    "plt.plot(tiempo,yy,c='k',label='Velocidad')\n",
    "plt.legend(loc='best',prop={'size':14})\n",
    "plt.legend('tiempo',fontsize=14)\n",
    "plt.show()"
   ]
  },
  {
   "cell_type": "code",
   "execution_count": null,
   "metadata": {
    "collapsed": true
   },
   "outputs": [],
   "source": []
  }
 ],
 "metadata": {
  "kernelspec": {
   "display_name": "Python 3",
   "language": "python",
   "name": "python3"
  },
  "language_info": {
   "codemirror_mode": {
    "name": "ipython",
    "version": 3
   },
   "file_extension": ".py",
   "mimetype": "text/x-python",
   "name": "python",
   "nbconvert_exporter": "python",
   "pygments_lexer": "ipython3",
   "version": "3.6.1"
  }
 },
 "nbformat": 4,
 "nbformat_minor": 2
}
