{
 "cells": [
  {
   "cell_type": "code",
   "execution_count": 1,
   "metadata": {
    "collapsed": true
   },
   "outputs": [],
   "source": [
    "%matplotlib inline\n",
    "import numpy as np\n",
    "import matplotlib.pylab as plt\n",
    "import matplotlib as mpl\n",
    "\n",
    "mpl.rc(\"font\",size=12)\n",
    "\n",
    "To = np.array([56.5,78.5,113.0,144.5,181.0,205.0,214.5])\n",
    "Po = np.array([1,2,5,10,20,30,40])\n",
    "\n",
    "T = np.array([56.5,113.0,181.0,214.5])\n",
    "P = np.array([1,5,20,40])"
   ]
  },
  {
   "cell_type": "code",
   "execution_count": null,
   "metadata": {
    "collapsed": true
   },
   "outputs": [],
   "source": [
    "fig = plt.figure(figsize=(14,6))\n",
    "\n",
    "plt.subplot(1,2,1)\n",
    "plt.scatter(Po,To)\n",
    "\n",
    "plt.xlabel(\"P(atm)\",fontsize=16)\n",
    "plt.ylabel(\"$ T(^{\\circ} C)$\")\n",
    "plt.title(\"Tabla original\")\n",
    "plt.grid()\n",
    "\n",
    "plt.subplot(1,2,2)\n",
    "plt.scatter(P,T)\n",
    "\n",
    "plt.xlabel(\"P(atm)\",fontsize=16)\n",
    "plt.ylabel(\"$ T(^{\\circ} C)$\")\n",
    "plt.title(\"Tabla reducida\")\n",
    "plt.grid()"
   ]
  }
 ],
 "metadata": {
  "kernelspec": {
   "display_name": "Python 3",
   "language": "python",
   "name": "python3"
  },
  "language_info": {
   "codemirror_mode": {
    "name": "ipython",
    "version": 3
   },
   "file_extension": ".py",
   "mimetype": "text/x-python",
   "name": "python",
   "nbconvert_exporter": "python",
   "pygments_lexer": "ipython3",
   "version": "3.6.1"
  }
 },
 "nbformat": 4,
 "nbformat_minor": 2
}
