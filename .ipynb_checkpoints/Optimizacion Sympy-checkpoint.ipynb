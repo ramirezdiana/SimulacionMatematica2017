{
 "cells": [
  {
   "cell_type": "code",
   "execution_count": 1,
   "metadata": {
    "collapsed": true
   },
   "outputs": [],
   "source": [
    "%matplotlib notebook\n",
    "from sympy import *\n",
    "import numpy as np\n",
    "import matplotlib.pyplot as plt\n",
    "init_printing()"
   ]
  },
  {
   "cell_type": "code",
   "execution_count": 7,
   "metadata": {},
   "outputs": [
    {
     "data": {
      "application/javascript": [
       "/* Put everything inside the global mpl namespace */\n",
       "window.mpl = {};\n",
       "\n",
       "\n",
       "mpl.get_websocket_type = function() {\n",
       "    if (typeof(WebSocket) !== 'undefined') {\n",
       "        return WebSocket;\n",
       "    } else if (typeof(MozWebSocket) !== 'undefined') {\n",
       "        return MozWebSocket;\n",
       "    } else {\n",
       "        alert('Your browser does not have WebSocket support.' +\n",
       "              'Please try Chrome, Safari or Firefox ≥ 6. ' +\n",
       "              'Firefox 4 and 5 are also supported but you ' +\n",
       "              'have to enable WebSockets in about:config.');\n",
       "    };\n",
       "}\n",
       "\n",
       "mpl.figure = function(figure_id, websocket, ondownload, parent_element) {\n",
       "    this.id = figure_id;\n",
       "\n",
       "    this.ws = websocket;\n",
       "\n",
       "    this.supports_binary = (this.ws.binaryType != undefined);\n",
       "\n",
       "    if (!this.supports_binary) {\n",
       "        var warnings = document.getElementById(\"mpl-warnings\");\n",
       "        if (warnings) {\n",
       "            warnings.style.display = 'block';\n",
       "            warnings.textContent = (\n",
       "                \"This browser does not support binary websocket messages. \" +\n",
       "                    \"Performance may be slow.\");\n",
       "        }\n",
       "    }\n",
       "\n",
       "    this.imageObj = new Image();\n",
       "\n",
       "    this.context = undefined;\n",
       "    this.message = undefined;\n",
       "    this.canvas = undefined;\n",
       "    this.rubberband_canvas = undefined;\n",
       "    this.rubberband_context = undefined;\n",
       "    this.format_dropdown = undefined;\n",
       "\n",
       "    this.image_mode = 'full';\n",
       "\n",
       "    this.root = $('<div/>');\n",
       "    this._root_extra_style(this.root)\n",
       "    this.root.attr('style', 'display: inline-block');\n",
       "\n",
       "    $(parent_element).append(this.root);\n",
       "\n",
       "    this._init_header(this);\n",
       "    this._init_canvas(this);\n",
       "    this._init_toolbar(this);\n",
       "\n",
       "    var fig = this;\n",
       "\n",
       "    this.waiting = false;\n",
       "\n",
       "    this.ws.onopen =  function () {\n",
       "            fig.send_message(\"supports_binary\", {value: fig.supports_binary});\n",
       "            fig.send_message(\"send_image_mode\", {});\n",
       "            if (mpl.ratio != 1) {\n",
       "                fig.send_message(\"set_dpi_ratio\", {'dpi_ratio': mpl.ratio});\n",
       "            }\n",
       "            fig.send_message(\"refresh\", {});\n",
       "        }\n",
       "\n",
       "    this.imageObj.onload = function() {\n",
       "            if (fig.image_mode == 'full') {\n",
       "                // Full images could contain transparency (where diff images\n",
       "                // almost always do), so we need to clear the canvas so that\n",
       "                // there is no ghosting.\n",
       "                fig.context.clearRect(0, 0, fig.canvas.width, fig.canvas.height);\n",
       "            }\n",
       "            fig.context.drawImage(fig.imageObj, 0, 0);\n",
       "        };\n",
       "\n",
       "    this.imageObj.onunload = function() {\n",
       "        this.ws.close();\n",
       "    }\n",
       "\n",
       "    this.ws.onmessage = this._make_on_message_function(this);\n",
       "\n",
       "    this.ondownload = ondownload;\n",
       "}\n",
       "\n",
       "mpl.figure.prototype._init_header = function() {\n",
       "    var titlebar = $(\n",
       "        '<div class=\"ui-dialog-titlebar ui-widget-header ui-corner-all ' +\n",
       "        'ui-helper-clearfix\"/>');\n",
       "    var titletext = $(\n",
       "        '<div class=\"ui-dialog-title\" style=\"width: 100%; ' +\n",
       "        'text-align: center; padding: 3px;\"/>');\n",
       "    titlebar.append(titletext)\n",
       "    this.root.append(titlebar);\n",
       "    this.header = titletext[0];\n",
       "}\n",
       "\n",
       "\n",
       "\n",
       "mpl.figure.prototype._canvas_extra_style = function(canvas_div) {\n",
       "\n",
       "}\n",
       "\n",
       "\n",
       "mpl.figure.prototype._root_extra_style = function(canvas_div) {\n",
       "\n",
       "}\n",
       "\n",
       "mpl.figure.prototype._init_canvas = function() {\n",
       "    var fig = this;\n",
       "\n",
       "    var canvas_div = $('<div/>');\n",
       "\n",
       "    canvas_div.attr('style', 'position: relative; clear: both; outline: 0');\n",
       "\n",
       "    function canvas_keyboard_event(event) {\n",
       "        return fig.key_event(event, event['data']);\n",
       "    }\n",
       "\n",
       "    canvas_div.keydown('key_press', canvas_keyboard_event);\n",
       "    canvas_div.keyup('key_release', canvas_keyboard_event);\n",
       "    this.canvas_div = canvas_div\n",
       "    this._canvas_extra_style(canvas_div)\n",
       "    this.root.append(canvas_div);\n",
       "\n",
       "    var canvas = $('<canvas/>');\n",
       "    canvas.addClass('mpl-canvas');\n",
       "    canvas.attr('style', \"left: 0; top: 0; z-index: 0; outline: 0\")\n",
       "\n",
       "    this.canvas = canvas[0];\n",
       "    this.context = canvas[0].getContext(\"2d\");\n",
       "\n",
       "    var backingStore = this.context.backingStorePixelRatio ||\n",
       "\tthis.context.webkitBackingStorePixelRatio ||\n",
       "\tthis.context.mozBackingStorePixelRatio ||\n",
       "\tthis.context.msBackingStorePixelRatio ||\n",
       "\tthis.context.oBackingStorePixelRatio ||\n",
       "\tthis.context.backingStorePixelRatio || 1;\n",
       "\n",
       "    mpl.ratio = (window.devicePixelRatio || 1) / backingStore;\n",
       "\n",
       "    var rubberband = $('<canvas/>');\n",
       "    rubberband.attr('style', \"position: absolute; left: 0; top: 0; z-index: 1;\")\n",
       "\n",
       "    var pass_mouse_events = true;\n",
       "\n",
       "    canvas_div.resizable({\n",
       "        start: function(event, ui) {\n",
       "            pass_mouse_events = false;\n",
       "        },\n",
       "        resize: function(event, ui) {\n",
       "            fig.request_resize(ui.size.width, ui.size.height);\n",
       "        },\n",
       "        stop: function(event, ui) {\n",
       "            pass_mouse_events = true;\n",
       "            fig.request_resize(ui.size.width, ui.size.height);\n",
       "        },\n",
       "    });\n",
       "\n",
       "    function mouse_event_fn(event) {\n",
       "        if (pass_mouse_events)\n",
       "            return fig.mouse_event(event, event['data']);\n",
       "    }\n",
       "\n",
       "    rubberband.mousedown('button_press', mouse_event_fn);\n",
       "    rubberband.mouseup('button_release', mouse_event_fn);\n",
       "    // Throttle sequential mouse events to 1 every 20ms.\n",
       "    rubberband.mousemove('motion_notify', mouse_event_fn);\n",
       "\n",
       "    rubberband.mouseenter('figure_enter', mouse_event_fn);\n",
       "    rubberband.mouseleave('figure_leave', mouse_event_fn);\n",
       "\n",
       "    canvas_div.on(\"wheel\", function (event) {\n",
       "        event = event.originalEvent;\n",
       "        event['data'] = 'scroll'\n",
       "        if (event.deltaY < 0) {\n",
       "            event.step = 1;\n",
       "        } else {\n",
       "            event.step = -1;\n",
       "        }\n",
       "        mouse_event_fn(event);\n",
       "    });\n",
       "\n",
       "    canvas_div.append(canvas);\n",
       "    canvas_div.append(rubberband);\n",
       "\n",
       "    this.rubberband = rubberband;\n",
       "    this.rubberband_canvas = rubberband[0];\n",
       "    this.rubberband_context = rubberband[0].getContext(\"2d\");\n",
       "    this.rubberband_context.strokeStyle = \"#000000\";\n",
       "\n",
       "    this._resize_canvas = function(width, height) {\n",
       "        // Keep the size of the canvas, canvas container, and rubber band\n",
       "        // canvas in synch.\n",
       "        canvas_div.css('width', width)\n",
       "        canvas_div.css('height', height)\n",
       "\n",
       "        canvas.attr('width', width * mpl.ratio);\n",
       "        canvas.attr('height', height * mpl.ratio);\n",
       "        canvas.attr('style', 'width: ' + width + 'px; height: ' + height + 'px;');\n",
       "\n",
       "        rubberband.attr('width', width);\n",
       "        rubberband.attr('height', height);\n",
       "    }\n",
       "\n",
       "    // Set the figure to an initial 600x600px, this will subsequently be updated\n",
       "    // upon first draw.\n",
       "    this._resize_canvas(600, 600);\n",
       "\n",
       "    // Disable right mouse context menu.\n",
       "    $(this.rubberband_canvas).bind(\"contextmenu\",function(e){\n",
       "        return false;\n",
       "    });\n",
       "\n",
       "    function set_focus () {\n",
       "        canvas.focus();\n",
       "        canvas_div.focus();\n",
       "    }\n",
       "\n",
       "    window.setTimeout(set_focus, 100);\n",
       "}\n",
       "\n",
       "mpl.figure.prototype._init_toolbar = function() {\n",
       "    var fig = this;\n",
       "\n",
       "    var nav_element = $('<div/>')\n",
       "    nav_element.attr('style', 'width: 100%');\n",
       "    this.root.append(nav_element);\n",
       "\n",
       "    // Define a callback function for later on.\n",
       "    function toolbar_event(event) {\n",
       "        return fig.toolbar_button_onclick(event['data']);\n",
       "    }\n",
       "    function toolbar_mouse_event(event) {\n",
       "        return fig.toolbar_button_onmouseover(event['data']);\n",
       "    }\n",
       "\n",
       "    for(var toolbar_ind in mpl.toolbar_items) {\n",
       "        var name = mpl.toolbar_items[toolbar_ind][0];\n",
       "        var tooltip = mpl.toolbar_items[toolbar_ind][1];\n",
       "        var image = mpl.toolbar_items[toolbar_ind][2];\n",
       "        var method_name = mpl.toolbar_items[toolbar_ind][3];\n",
       "\n",
       "        if (!name) {\n",
       "            // put a spacer in here.\n",
       "            continue;\n",
       "        }\n",
       "        var button = $('<button/>');\n",
       "        button.addClass('ui-button ui-widget ui-state-default ui-corner-all ' +\n",
       "                        'ui-button-icon-only');\n",
       "        button.attr('role', 'button');\n",
       "        button.attr('aria-disabled', 'false');\n",
       "        button.click(method_name, toolbar_event);\n",
       "        button.mouseover(tooltip, toolbar_mouse_event);\n",
       "\n",
       "        var icon_img = $('<span/>');\n",
       "        icon_img.addClass('ui-button-icon-primary ui-icon');\n",
       "        icon_img.addClass(image);\n",
       "        icon_img.addClass('ui-corner-all');\n",
       "\n",
       "        var tooltip_span = $('<span/>');\n",
       "        tooltip_span.addClass('ui-button-text');\n",
       "        tooltip_span.html(tooltip);\n",
       "\n",
       "        button.append(icon_img);\n",
       "        button.append(tooltip_span);\n",
       "\n",
       "        nav_element.append(button);\n",
       "    }\n",
       "\n",
       "    var fmt_picker_span = $('<span/>');\n",
       "\n",
       "    var fmt_picker = $('<select/>');\n",
       "    fmt_picker.addClass('mpl-toolbar-option ui-widget ui-widget-content');\n",
       "    fmt_picker_span.append(fmt_picker);\n",
       "    nav_element.append(fmt_picker_span);\n",
       "    this.format_dropdown = fmt_picker[0];\n",
       "\n",
       "    for (var ind in mpl.extensions) {\n",
       "        var fmt = mpl.extensions[ind];\n",
       "        var option = $(\n",
       "            '<option/>', {selected: fmt === mpl.default_extension}).html(fmt);\n",
       "        fmt_picker.append(option)\n",
       "    }\n",
       "\n",
       "    // Add hover states to the ui-buttons\n",
       "    $( \".ui-button\" ).hover(\n",
       "        function() { $(this).addClass(\"ui-state-hover\");},\n",
       "        function() { $(this).removeClass(\"ui-state-hover\");}\n",
       "    );\n",
       "\n",
       "    var status_bar = $('<span class=\"mpl-message\"/>');\n",
       "    nav_element.append(status_bar);\n",
       "    this.message = status_bar[0];\n",
       "}\n",
       "\n",
       "mpl.figure.prototype.request_resize = function(x_pixels, y_pixels) {\n",
       "    // Request matplotlib to resize the figure. Matplotlib will then trigger a resize in the client,\n",
       "    // which will in turn request a refresh of the image.\n",
       "    this.send_message('resize', {'width': x_pixels, 'height': y_pixels});\n",
       "}\n",
       "\n",
       "mpl.figure.prototype.send_message = function(type, properties) {\n",
       "    properties['type'] = type;\n",
       "    properties['figure_id'] = this.id;\n",
       "    this.ws.send(JSON.stringify(properties));\n",
       "}\n",
       "\n",
       "mpl.figure.prototype.send_draw_message = function() {\n",
       "    if (!this.waiting) {\n",
       "        this.waiting = true;\n",
       "        this.ws.send(JSON.stringify({type: \"draw\", figure_id: this.id}));\n",
       "    }\n",
       "}\n",
       "\n",
       "\n",
       "mpl.figure.prototype.handle_save = function(fig, msg) {\n",
       "    var format_dropdown = fig.format_dropdown;\n",
       "    var format = format_dropdown.options[format_dropdown.selectedIndex].value;\n",
       "    fig.ondownload(fig, format);\n",
       "}\n",
       "\n",
       "\n",
       "mpl.figure.prototype.handle_resize = function(fig, msg) {\n",
       "    var size = msg['size'];\n",
       "    if (size[0] != fig.canvas.width || size[1] != fig.canvas.height) {\n",
       "        fig._resize_canvas(size[0], size[1]);\n",
       "        fig.send_message(\"refresh\", {});\n",
       "    };\n",
       "}\n",
       "\n",
       "mpl.figure.prototype.handle_rubberband = function(fig, msg) {\n",
       "    var x0 = msg['x0'] / mpl.ratio;\n",
       "    var y0 = (fig.canvas.height - msg['y0']) / mpl.ratio;\n",
       "    var x1 = msg['x1'] / mpl.ratio;\n",
       "    var y1 = (fig.canvas.height - msg['y1']) / mpl.ratio;\n",
       "    x0 = Math.floor(x0) + 0.5;\n",
       "    y0 = Math.floor(y0) + 0.5;\n",
       "    x1 = Math.floor(x1) + 0.5;\n",
       "    y1 = Math.floor(y1) + 0.5;\n",
       "    var min_x = Math.min(x0, x1);\n",
       "    var min_y = Math.min(y0, y1);\n",
       "    var width = Math.abs(x1 - x0);\n",
       "    var height = Math.abs(y1 - y0);\n",
       "\n",
       "    fig.rubberband_context.clearRect(\n",
       "        0, 0, fig.canvas.width, fig.canvas.height);\n",
       "\n",
       "    fig.rubberband_context.strokeRect(min_x, min_y, width, height);\n",
       "}\n",
       "\n",
       "mpl.figure.prototype.handle_figure_label = function(fig, msg) {\n",
       "    // Updates the figure title.\n",
       "    fig.header.textContent = msg['label'];\n",
       "}\n",
       "\n",
       "mpl.figure.prototype.handle_cursor = function(fig, msg) {\n",
       "    var cursor = msg['cursor'];\n",
       "    switch(cursor)\n",
       "    {\n",
       "    case 0:\n",
       "        cursor = 'pointer';\n",
       "        break;\n",
       "    case 1:\n",
       "        cursor = 'default';\n",
       "        break;\n",
       "    case 2:\n",
       "        cursor = 'crosshair';\n",
       "        break;\n",
       "    case 3:\n",
       "        cursor = 'move';\n",
       "        break;\n",
       "    }\n",
       "    fig.rubberband_canvas.style.cursor = cursor;\n",
       "}\n",
       "\n",
       "mpl.figure.prototype.handle_message = function(fig, msg) {\n",
       "    fig.message.textContent = msg['message'];\n",
       "}\n",
       "\n",
       "mpl.figure.prototype.handle_draw = function(fig, msg) {\n",
       "    // Request the server to send over a new figure.\n",
       "    fig.send_draw_message();\n",
       "}\n",
       "\n",
       "mpl.figure.prototype.handle_image_mode = function(fig, msg) {\n",
       "    fig.image_mode = msg['mode'];\n",
       "}\n",
       "\n",
       "mpl.figure.prototype.updated_canvas_event = function() {\n",
       "    // Called whenever the canvas gets updated.\n",
       "    this.send_message(\"ack\", {});\n",
       "}\n",
       "\n",
       "// A function to construct a web socket function for onmessage handling.\n",
       "// Called in the figure constructor.\n",
       "mpl.figure.prototype._make_on_message_function = function(fig) {\n",
       "    return function socket_on_message(evt) {\n",
       "        if (evt.data instanceof Blob) {\n",
       "            /* FIXME: We get \"Resource interpreted as Image but\n",
       "             * transferred with MIME type text/plain:\" errors on\n",
       "             * Chrome.  But how to set the MIME type?  It doesn't seem\n",
       "             * to be part of the websocket stream */\n",
       "            evt.data.type = \"image/png\";\n",
       "\n",
       "            /* Free the memory for the previous frames */\n",
       "            if (fig.imageObj.src) {\n",
       "                (window.URL || window.webkitURL).revokeObjectURL(\n",
       "                    fig.imageObj.src);\n",
       "            }\n",
       "\n",
       "            fig.imageObj.src = (window.URL || window.webkitURL).createObjectURL(\n",
       "                evt.data);\n",
       "            fig.updated_canvas_event();\n",
       "            fig.waiting = false;\n",
       "            return;\n",
       "        }\n",
       "        else if (typeof evt.data === 'string' && evt.data.slice(0, 21) == \"data:image/png;base64\") {\n",
       "            fig.imageObj.src = evt.data;\n",
       "            fig.updated_canvas_event();\n",
       "            fig.waiting = false;\n",
       "            return;\n",
       "        }\n",
       "\n",
       "        var msg = JSON.parse(evt.data);\n",
       "        var msg_type = msg['type'];\n",
       "\n",
       "        // Call the  \"handle_{type}\" callback, which takes\n",
       "        // the figure and JSON message as its only arguments.\n",
       "        try {\n",
       "            var callback = fig[\"handle_\" + msg_type];\n",
       "        } catch (e) {\n",
       "            console.log(\"No handler for the '\" + msg_type + \"' message type: \", msg);\n",
       "            return;\n",
       "        }\n",
       "\n",
       "        if (callback) {\n",
       "            try {\n",
       "                // console.log(\"Handling '\" + msg_type + \"' message: \", msg);\n",
       "                callback(fig, msg);\n",
       "            } catch (e) {\n",
       "                console.log(\"Exception inside the 'handler_\" + msg_type + \"' callback:\", e, e.stack, msg);\n",
       "            }\n",
       "        }\n",
       "    };\n",
       "}\n",
       "\n",
       "// from http://stackoverflow.com/questions/1114465/getting-mouse-location-in-canvas\n",
       "mpl.findpos = function(e) {\n",
       "    //this section is from http://www.quirksmode.org/js/events_properties.html\n",
       "    var targ;\n",
       "    if (!e)\n",
       "        e = window.event;\n",
       "    if (e.target)\n",
       "        targ = e.target;\n",
       "    else if (e.srcElement)\n",
       "        targ = e.srcElement;\n",
       "    if (targ.nodeType == 3) // defeat Safari bug\n",
       "        targ = targ.parentNode;\n",
       "\n",
       "    // jQuery normalizes the pageX and pageY\n",
       "    // pageX,Y are the mouse positions relative to the document\n",
       "    // offset() returns the position of the element relative to the document\n",
       "    var x = e.pageX - $(targ).offset().left;\n",
       "    var y = e.pageY - $(targ).offset().top;\n",
       "\n",
       "    return {\"x\": x, \"y\": y};\n",
       "};\n",
       "\n",
       "/*\n",
       " * return a copy of an object with only non-object keys\n",
       " * we need this to avoid circular references\n",
       " * http://stackoverflow.com/a/24161582/3208463\n",
       " */\n",
       "function simpleKeys (original) {\n",
       "  return Object.keys(original).reduce(function (obj, key) {\n",
       "    if (typeof original[key] !== 'object')\n",
       "        obj[key] = original[key]\n",
       "    return obj;\n",
       "  }, {});\n",
       "}\n",
       "\n",
       "mpl.figure.prototype.mouse_event = function(event, name) {\n",
       "    var canvas_pos = mpl.findpos(event)\n",
       "\n",
       "    if (name === 'button_press')\n",
       "    {\n",
       "        this.canvas.focus();\n",
       "        this.canvas_div.focus();\n",
       "    }\n",
       "\n",
       "    var x = canvas_pos.x * mpl.ratio;\n",
       "    var y = canvas_pos.y * mpl.ratio;\n",
       "\n",
       "    this.send_message(name, {x: x, y: y, button: event.button,\n",
       "                             step: event.step,\n",
       "                             guiEvent: simpleKeys(event)});\n",
       "\n",
       "    /* This prevents the web browser from automatically changing to\n",
       "     * the text insertion cursor when the button is pressed.  We want\n",
       "     * to control all of the cursor setting manually through the\n",
       "     * 'cursor' event from matplotlib */\n",
       "    event.preventDefault();\n",
       "    return false;\n",
       "}\n",
       "\n",
       "mpl.figure.prototype._key_event_extra = function(event, name) {\n",
       "    // Handle any extra behaviour associated with a key event\n",
       "}\n",
       "\n",
       "mpl.figure.prototype.key_event = function(event, name) {\n",
       "\n",
       "    // Prevent repeat events\n",
       "    if (name == 'key_press')\n",
       "    {\n",
       "        if (event.which === this._key)\n",
       "            return;\n",
       "        else\n",
       "            this._key = event.which;\n",
       "    }\n",
       "    if (name == 'key_release')\n",
       "        this._key = null;\n",
       "\n",
       "    var value = '';\n",
       "    if (event.ctrlKey && event.which != 17)\n",
       "        value += \"ctrl+\";\n",
       "    if (event.altKey && event.which != 18)\n",
       "        value += \"alt+\";\n",
       "    if (event.shiftKey && event.which != 16)\n",
       "        value += \"shift+\";\n",
       "\n",
       "    value += 'k';\n",
       "    value += event.which.toString();\n",
       "\n",
       "    this._key_event_extra(event, name);\n",
       "\n",
       "    this.send_message(name, {key: value,\n",
       "                             guiEvent: simpleKeys(event)});\n",
       "    return false;\n",
       "}\n",
       "\n",
       "mpl.figure.prototype.toolbar_button_onclick = function(name) {\n",
       "    if (name == 'download') {\n",
       "        this.handle_save(this, null);\n",
       "    } else {\n",
       "        this.send_message(\"toolbar_button\", {name: name});\n",
       "    }\n",
       "};\n",
       "\n",
       "mpl.figure.prototype.toolbar_button_onmouseover = function(tooltip) {\n",
       "    this.message.textContent = tooltip;\n",
       "};\n",
       "mpl.toolbar_items = [[\"Home\", \"Reset original view\", \"fa fa-home icon-home\", \"home\"], [\"Back\", \"Back to  previous view\", \"fa fa-arrow-left icon-arrow-left\", \"back\"], [\"Forward\", \"Forward to next view\", \"fa fa-arrow-right icon-arrow-right\", \"forward\"], [\"\", \"\", \"\", \"\"], [\"Pan\", \"Pan axes with left mouse, zoom with right\", \"fa fa-arrows icon-move\", \"pan\"], [\"Zoom\", \"Zoom to rectangle\", \"fa fa-square-o icon-check-empty\", \"zoom\"], [\"\", \"\", \"\", \"\"], [\"Download\", \"Download plot\", \"fa fa-floppy-o icon-save\", \"download\"]];\n",
       "\n",
       "mpl.extensions = [\"eps\", \"jpeg\", \"pdf\", \"png\", \"ps\", \"raw\", \"svg\", \"tif\"];\n",
       "\n",
       "mpl.default_extension = \"png\";var comm_websocket_adapter = function(comm) {\n",
       "    // Create a \"websocket\"-like object which calls the given IPython comm\n",
       "    // object with the appropriate methods. Currently this is a non binary\n",
       "    // socket, so there is still some room for performance tuning.\n",
       "    var ws = {};\n",
       "\n",
       "    ws.close = function() {\n",
       "        comm.close()\n",
       "    };\n",
       "    ws.send = function(m) {\n",
       "        //console.log('sending', m);\n",
       "        comm.send(m);\n",
       "    };\n",
       "    // Register the callback with on_msg.\n",
       "    comm.on_msg(function(msg) {\n",
       "        //console.log('receiving', msg['content']['data'], msg);\n",
       "        // Pass the mpl event to the overriden (by mpl) onmessage function.\n",
       "        ws.onmessage(msg['content']['data'])\n",
       "    });\n",
       "    return ws;\n",
       "}\n",
       "\n",
       "mpl.mpl_figure_comm = function(comm, msg) {\n",
       "    // This is the function which gets called when the mpl process\n",
       "    // starts-up an IPython Comm through the \"matplotlib\" channel.\n",
       "\n",
       "    var id = msg.content.data.id;\n",
       "    // Get hold of the div created by the display call when the Comm\n",
       "    // socket was opened in Python.\n",
       "    var element = $(\"#\" + id);\n",
       "    var ws_proxy = comm_websocket_adapter(comm)\n",
       "\n",
       "    function ondownload(figure, format) {\n",
       "        window.open(figure.imageObj.src);\n",
       "    }\n",
       "\n",
       "    var fig = new mpl.figure(id, ws_proxy,\n",
       "                           ondownload,\n",
       "                           element.get(0));\n",
       "\n",
       "    // Call onopen now - mpl needs it, as it is assuming we've passed it a real\n",
       "    // web socket which is closed, not our websocket->open comm proxy.\n",
       "    ws_proxy.onopen();\n",
       "\n",
       "    fig.parent_element = element.get(0);\n",
       "    fig.cell_info = mpl.find_output_cell(\"<div id='\" + id + \"'></div>\");\n",
       "    if (!fig.cell_info) {\n",
       "        console.error(\"Failed to find cell for figure\", id, fig);\n",
       "        return;\n",
       "    }\n",
       "\n",
       "    var output_index = fig.cell_info[2]\n",
       "    var cell = fig.cell_info[0];\n",
       "\n",
       "};\n",
       "\n",
       "mpl.figure.prototype.handle_close = function(fig, msg) {\n",
       "    var width = fig.canvas.width/mpl.ratio\n",
       "    fig.root.unbind('remove')\n",
       "\n",
       "    // Update the output cell to use the data from the current canvas.\n",
       "    fig.push_to_output();\n",
       "    var dataURL = fig.canvas.toDataURL();\n",
       "    // Re-enable the keyboard manager in IPython - without this line, in FF,\n",
       "    // the notebook keyboard shortcuts fail.\n",
       "    IPython.keyboard_manager.enable()\n",
       "    $(fig.parent_element).html('<img src=\"' + dataURL + '\" width=\"' + width + '\">');\n",
       "    fig.close_ws(fig, msg);\n",
       "}\n",
       "\n",
       "mpl.figure.prototype.close_ws = function(fig, msg){\n",
       "    fig.send_message('closing', msg);\n",
       "    // fig.ws.close()\n",
       "}\n",
       "\n",
       "mpl.figure.prototype.push_to_output = function(remove_interactive) {\n",
       "    // Turn the data on the canvas into data in the output cell.\n",
       "    var width = this.canvas.width/mpl.ratio\n",
       "    var dataURL = this.canvas.toDataURL();\n",
       "    this.cell_info[1]['text/html'] = '<img src=\"' + dataURL + '\" width=\"' + width + '\">';\n",
       "}\n",
       "\n",
       "mpl.figure.prototype.updated_canvas_event = function() {\n",
       "    // Tell IPython that the notebook contents must change.\n",
       "    IPython.notebook.set_dirty(true);\n",
       "    this.send_message(\"ack\", {});\n",
       "    var fig = this;\n",
       "    // Wait a second, then push the new image to the DOM so\n",
       "    // that it is saved nicely (might be nice to debounce this).\n",
       "    setTimeout(function () { fig.push_to_output() }, 1000);\n",
       "}\n",
       "\n",
       "mpl.figure.prototype._init_toolbar = function() {\n",
       "    var fig = this;\n",
       "\n",
       "    var nav_element = $('<div/>')\n",
       "    nav_element.attr('style', 'width: 100%');\n",
       "    this.root.append(nav_element);\n",
       "\n",
       "    // Define a callback function for later on.\n",
       "    function toolbar_event(event) {\n",
       "        return fig.toolbar_button_onclick(event['data']);\n",
       "    }\n",
       "    function toolbar_mouse_event(event) {\n",
       "        return fig.toolbar_button_onmouseover(event['data']);\n",
       "    }\n",
       "\n",
       "    for(var toolbar_ind in mpl.toolbar_items){\n",
       "        var name = mpl.toolbar_items[toolbar_ind][0];\n",
       "        var tooltip = mpl.toolbar_items[toolbar_ind][1];\n",
       "        var image = mpl.toolbar_items[toolbar_ind][2];\n",
       "        var method_name = mpl.toolbar_items[toolbar_ind][3];\n",
       "\n",
       "        if (!name) { continue; };\n",
       "\n",
       "        var button = $('<button class=\"btn btn-default\" href=\"#\" title=\"' + name + '\"><i class=\"fa ' + image + ' fa-lg\"></i></button>');\n",
       "        button.click(method_name, toolbar_event);\n",
       "        button.mouseover(tooltip, toolbar_mouse_event);\n",
       "        nav_element.append(button);\n",
       "    }\n",
       "\n",
       "    // Add the status bar.\n",
       "    var status_bar = $('<span class=\"mpl-message\" style=\"text-align:right; float: right;\"/>');\n",
       "    nav_element.append(status_bar);\n",
       "    this.message = status_bar[0];\n",
       "\n",
       "    // Add the close button to the window.\n",
       "    var buttongrp = $('<div class=\"btn-group inline pull-right\"></div>');\n",
       "    var button = $('<button class=\"btn btn-mini btn-primary\" href=\"#\" title=\"Stop Interaction\"><i class=\"fa fa-power-off icon-remove icon-large\"></i></button>');\n",
       "    button.click(function (evt) { fig.handle_close(fig, {}); } );\n",
       "    button.mouseover('Stop Interaction', toolbar_mouse_event);\n",
       "    buttongrp.append(button);\n",
       "    var titlebar = this.root.find($('.ui-dialog-titlebar'));\n",
       "    titlebar.prepend(buttongrp);\n",
       "}\n",
       "\n",
       "mpl.figure.prototype._root_extra_style = function(el){\n",
       "    var fig = this\n",
       "    el.on(\"remove\", function(){\n",
       "\tfig.close_ws(fig, {});\n",
       "    });\n",
       "}\n",
       "\n",
       "mpl.figure.prototype._canvas_extra_style = function(el){\n",
       "    // this is important to make the div 'focusable\n",
       "    el.attr('tabindex', 0)\n",
       "    // reach out to IPython and tell the keyboard manager to turn it's self\n",
       "    // off when our div gets focus\n",
       "\n",
       "    // location in version 3\n",
       "    if (IPython.notebook.keyboard_manager) {\n",
       "        IPython.notebook.keyboard_manager.register_events(el);\n",
       "    }\n",
       "    else {\n",
       "        // location in version 2\n",
       "        IPython.keyboard_manager.register_events(el);\n",
       "    }\n",
       "\n",
       "}\n",
       "\n",
       "mpl.figure.prototype._key_event_extra = function(event, name) {\n",
       "    var manager = IPython.notebook.keyboard_manager;\n",
       "    if (!manager)\n",
       "        manager = IPython.keyboard_manager;\n",
       "\n",
       "    // Check for shift+enter\n",
       "    if (event.shiftKey && event.which == 13) {\n",
       "        this.canvas_div.blur();\n",
       "        // select the cell after this one\n",
       "        var index = IPython.notebook.find_cell_index(this.cell_info[0]);\n",
       "        IPython.notebook.select(index + 1);\n",
       "    }\n",
       "}\n",
       "\n",
       "mpl.figure.prototype.handle_save = function(fig, msg) {\n",
       "    fig.ondownload(fig, null);\n",
       "}\n",
       "\n",
       "\n",
       "mpl.find_output_cell = function(html_output) {\n",
       "    // Return the cell and output element which can be found *uniquely* in the notebook.\n",
       "    // Note - this is a bit hacky, but it is done because the \"notebook_saving.Notebook\"\n",
       "    // IPython event is triggered only after the cells have been serialised, which for\n",
       "    // our purposes (turning an active figure into a static one), is too late.\n",
       "    var cells = IPython.notebook.get_cells();\n",
       "    var ncells = cells.length;\n",
       "    for (var i=0; i<ncells; i++) {\n",
       "        var cell = cells[i];\n",
       "        if (cell.cell_type === 'code'){\n",
       "            for (var j=0; j<cell.output_area.outputs.length; j++) {\n",
       "                var data = cell.output_area.outputs[j];\n",
       "                if (data.data) {\n",
       "                    // IPython >= 3 moved mimebundle to data attribute of output\n",
       "                    data = data.data;\n",
       "                }\n",
       "                if (data['text/html'] == html_output) {\n",
       "                    return [cell, data, j];\n",
       "                }\n",
       "            }\n",
       "        }\n",
       "    }\n",
       "}\n",
       "\n",
       "// Register the function which deals with the matplotlib target/channel.\n",
       "// The kernel may be null if the page has been refreshed.\n",
       "if (IPython.notebook.kernel != null) {\n",
       "    IPython.notebook.kernel.comm_manager.register_target('matplotlib', mpl.mpl_figure_comm);\n",
       "}\n"
      ],
      "text/plain": [
       "<IPython.core.display.Javascript object>"
      ]
     },
     "metadata": {},
     "output_type": "display_data"
    },
    {
     "data": {
      "text/html": [
       "<img src=\"data:image/png;base64,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\" width=\"639.9999861283738\">"
      ],
      "text/plain": [
       "<IPython.core.display.HTML object>"
      ]
     },
     "metadata": {},
     "output_type": "display_data"
    },
    {
     "data": {
      "text/plain": [
       "<sympy.plotting.plot.Plot at 0x17cb39f9d68>"
      ]
     },
     "execution_count": 7,
     "metadata": {},
     "output_type": "execute_result"
    }
   ],
   "source": [
    "var(\"x y t\")\n",
    "f=x**3-3*x**2-24*x+32\n",
    "plot(f)"
   ]
  },
  {
   "cell_type": "code",
   "execution_count": 6,
   "metadata": {},
   "outputs": [
    {
     "data": {
      "image/png": "[encoded data removed]",
      "text/latex": [
       "$$\\left ( 3 x^{2} - 6 x - 24, \\quad 6 x - 6\\right )$$"
      ],
      "text/plain": [
       "⎛   2                    ⎞\n",
       "⎝3⋅x  - 6⋅x - 24, 6⋅x - 6⎠"
      ]
     },
     "execution_count": 6,
     "metadata": {},
     "output_type": "execute_result"
    }
   ],
   "source": [
    "f=x**3-3*x**2-24*x+32\n",
    "df=f.diff()\n",
    "ddf=df.diff()\n",
    "df,ddf"
   ]
  },
  {
   "cell_type": "code",
   "execution_count": 8,
   "metadata": {},
   "outputs": [
    {
     "data": {
      "image/png": "[encoded data removed]",
      "text/latex": [
       "$$\\left [ -2, \\quad 4\\right ]$$"
      ],
      "text/plain": [
       "[-2, 4]"
      ]
     },
     "execution_count": 8,
     "metadata": {},
     "output_type": "execute_result"
    }
   ],
   "source": [
    "pc=solve(df)\n",
    "pc"
   ]
  },
  {
   "cell_type": "code",
   "execution_count": 9,
   "metadata": {},
   "outputs": [
    {
     "data": {
      "image/png": "[encoded data removed]",
      "text/latex": [
       "$$\\left ( -18, \\quad 18\\right )$$"
      ],
      "text/plain": [
       "(-18, 18)"
      ]
     },
     "execution_count": 9,
     "metadata": {},
     "output_type": "execute_result"
    }
   ],
   "source": [
    "ddf.subs(x,pc[0]),ddf.subs(x,pc[1])"
   ]
  },
  {
   "cell_type": "code",
   "execution_count": 14,
   "metadata": {},
   "outputs": [
    {
     "data": {
      "image/png": "[encoded data removed]",
      "text/latex": [
       "$$\\left ( x y, \\quad 2 x + y = 2400\\right )$$"
      ],
      "text/plain": [
       "(x⋅y, 2⋅x + y = 2400)"
      ]
     },
     "execution_count": 14,
     "metadata": {},
     "output_type": "execute_result"
    }
   ],
   "source": [
    "a=x*y\n",
    "eql=Eq(2*x+y,2400)\n",
    "a,eql"
   ]
  },
  {
   "cell_type": "code",
   "execution_count": 15,
   "metadata": {},
   "outputs": [
    {
     "data": {
      "image/png": "[encoded data removed]",
      "text/latex": [
       "$$\\left [ - 2 x + 2400\\right ]$$"
      ],
      "text/plain": [
       "[-2⋅x + 2400]"
      ]
     },
     "execution_count": 15,
     "metadata": {},
     "output_type": "execute_result"
    }
   ],
   "source": [
    "y_=solve(eql,y)\n",
    "y_"
   ]
  },
  {
   "cell_type": "code",
   "execution_count": 16,
   "metadata": {},
   "outputs": [
    {
     "data": {
      "image/png": "[encoded data removed]",
      "text/latex": [
       "$$x \\left(- 2 x + 2400\\right)$$"
      ],
      "text/plain": [
       "x⋅(-2⋅x + 2400)"
      ]
     },
     "execution_count": 16,
     "metadata": {},
     "output_type": "execute_result"
    }
   ],
   "source": [
    "f=a.subs(y,y_[0])\n",
    "f"
   ]
  },
  {
   "cell_type": "code",
   "execution_count": 22,
   "metadata": {},
   "outputs": [
    {
     "data": {
      "image/png": "[encoded data removed]",
      "text/latex": [
       "$$\\left [ 600\\right ]$$"
      ],
      "text/plain": [
       "[600]"
      ]
     },
     "execution_count": 22,
     "metadata": {},
     "output_type": "execute_result"
    }
   ],
   "source": [
    "df=f.diff()\n",
    "ddf=df.diff()\n",
    "pc=solve(df)\n",
    "pc"
   ]
  },
  {
   "cell_type": "code",
   "execution_count": 19,
   "metadata": {},
   "outputs": [
    {
     "data": {
      "image/png": "[encoded data removed]",
      "text/latex": [
       "$$\\left [ 1200\\right ]$$"
      ],
      "text/plain": [
       "[1200]"
      ]
     },
     "execution_count": 19,
     "metadata": {},
     "output_type": "execute_result"
    }
   ],
   "source": [
    "solve(eql.subs(x,600),y)"
   ]
  },
  {
   "cell_type": "code",
   "execution_count": 32,
   "metadata": {},
   "outputs": [
    {
     "data": {
      "image/png": "[encoded data removed]",
      "text/latex": [
       "$$\\left ( 2 \\pi h r + 2 \\pi r^{2}, \\quad \\pi h r^{2} = 1000\\right )$$"
      ],
      "text/plain": [
       "⎛               2       2       ⎞\n",
       "⎝2⋅π⋅h⋅r + 2⋅π⋅r , π⋅h⋅r  = 1000⎠"
      ]
     },
     "execution_count": 32,
     "metadata": {},
     "output_type": "execute_result"
    }
   ],
   "source": [
    "var(\"r h t\")\n",
    "r,h=symbols('r,h',real=True)\n",
    "a=2*pi*r**2+2*pi*r*h\n",
    "eql=Eq(h*pi*r**2,1000)\n",
    "a,eql"
   ]
  },
  {
   "cell_type": "code",
   "execution_count": 33,
   "metadata": {},
   "outputs": [
    {
     "data": {
      "image/png": "[encoded data removed]",
      "text/latex": [
       "$$\\left [ \\frac{1000}{\\pi r^{2}}\\right ]$$"
      ],
      "text/plain": [
       "⎡1000⎤\n",
       "⎢────⎥\n",
       "⎢   2⎥\n",
       "⎣π⋅r ⎦"
      ]
     },
     "execution_count": 33,
     "metadata": {},
     "output_type": "execute_result"
    }
   ],
   "source": [
    "y_=solve(eql,h)\n",
    "y_"
   ]
  },
  {
   "cell_type": "code",
   "execution_count": 34,
   "metadata": {},
   "outputs": [
    {
     "data": {
      "image/png": "[encoded data removed]",
      "text/latex": [
       "$$2 \\pi r^{2} + \\frac{2000}{r}$$"
      ],
      "text/plain": [
       "     2   2000\n",
       "2⋅π⋅r  + ────\n",
       "          r  "
      ]
     },
     "execution_count": 34,
     "metadata": {},
     "output_type": "execute_result"
    }
   ],
   "source": [
    "f=a.subs(h,y_[0])\n",
    "f"
   ]
  },
  {
   "cell_type": "code",
   "execution_count": 35,
   "metadata": {},
   "outputs": [
    {
     "data": {
      "image/png": "[encoded data removed]",
      "text/latex": [
       "$$\\left [ \\frac{5}{\\sqrt[3]{\\pi}} 2^{\\frac{2}{3}}\\right ]$$"
      ],
      "text/plain": [
       "⎡   2/3⎤\n",
       "⎢5⋅2   ⎥\n",
       "⎢──────⎥\n",
       "⎢3 ___ ⎥\n",
       "⎣╲╱ π  ⎦"
      ]
     },
     "execution_count": 35,
     "metadata": {},
     "output_type": "execute_result"
    }
   ],
   "source": [
    "df=f.diff()\n",
    "ddf=df.diff()\n",
    "pc=solve(df)\n",
    "pc"
   ]
  },
  {
   "cell_type": "code",
   "execution_count": 37,
   "metadata": {},
   "outputs": [
    {
     "data": {
      "image/png": "[encoded data removed]",
      "text/latex": [
       "$$12 \\pi$$"
      ],
      "text/plain": [
       "12⋅π"
      ]
     },
     "execution_count": 37,
     "metadata": {},
     "output_type": "execute_result"
    }
   ],
   "source": [
    "ddf.subs(r,pc[0])"
   ]
  },
  {
   "cell_type": "code",
   "execution_count": 39,
   "metadata": {},
   "outputs": [
    {
     "data": {
      "image/png": "[encoded data removed]",
      "text/latex": [
       "$$10.8385214027858$$"
      ],
      "text/plain": [
       "10.8385214027858"
      ]
     },
     "execution_count": 39,
     "metadata": {},
     "output_type": "execute_result"
    }
   ],
   "source": [
    "N(solve(eql.subs(r,pc[0]),h)[0])"
   ]
  },
  {
   "cell_type": "code",
   "execution_count": null,
   "metadata": {
    "collapsed": true
   },
   "outputs": [],
   "source": []
  }
 ],
 "metadata": {
  "kernelspec": {
   "display_name": "Python 3",
   "language": "python",
   "name": "python3"
  },
  "language_info": {
   "codemirror_mode": {
    "name": "ipython",
    "version": 3
   },
   "file_extension": ".py",
   "mimetype": "text/x-python",
   "name": "python",
   "nbconvert_exporter": "python",
   "pygments_lexer": "ipython3",
   "version": "3.6.1"
  }
 },
 "nbformat": 4,
 "nbformat_minor": 2
}
