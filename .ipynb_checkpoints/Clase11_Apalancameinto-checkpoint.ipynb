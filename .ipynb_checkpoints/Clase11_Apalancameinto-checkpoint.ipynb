{
 "cells": [
  {
   "cell_type": "code",
   "execution_count": 14,
   "metadata": {
    "collapsed": true
   },
   "outputs": [],
   "source": [
    "%matplotlib inline\n",
    "import matplotlib.pyplot as plt\n",
    "import numpy as np\n",
    "from sympy import *\n",
    "import pandas as pd\n",
    "from scipy import stats"
   ]
  },
  {
   "cell_type": "code",
   "execution_count": 15,
   "metadata": {},
   "outputs": [
    {
     "name": "stdout",
     "output_type": "stream",
     "text": [
      "monto inicial: 10000\n",
      "pedí prestado: 2000.0\n",
      "invertí: 12000.0\n",
      "termine con: 14400.0\n",
      "pago préstamo: 2100.0\n",
      "monto final: 12300.0\n",
      "rendimiento: 23.0\n"
     ]
    }
   ],
   "source": [
    "inicial=10000\n",
    "tasa=.2\n",
    "prestamo=inicial*tasa\n",
    "tasaint=.05\n",
    "\n",
    "disponible = inicial+prestamo\n",
    "rendimiento=.2\n",
    "\n",
    "subtotal=rendimiento*disponible+disponible\n",
    "pagoprestamo=prestamo+tasaint*prestamo\n",
    "\n",
    "montofinal=subtotal-pagoprestamo\n",
    "rendimiento=(montofinal-inicial)/inicial\n",
    "\n",
    "print ('monto inicial:',str(inicial))\n",
    "print ('pedí prestado:',str(prestamo))\n",
    "print ('invertí:',str(disponible))\n",
    "print ('termine con:',str(subtotal))\n",
    "print ('pago préstamo:',str(pagoprestamo))\n",
    "print ('monto final:',str(montofinal))\n",
    "print ('rendimiento:',str(rendimiento*100))"
   ]
  },
  {
   "cell_type": "code",
   "execution_count": 16,
   "metadata": {},
   "outputs": [
    {
     "name": "stdout",
     "output_type": "stream",
     "text": [
      "monto inicial: 10000\n",
      "pedí prestado: 3000.0\n",
      "invertí: 13000.0\n",
      "termine con: 13565.457994885188\n",
      "pago préstamo: 3150.0\n",
      "monto final: 10415.457994885188\n",
      "rendimiento: 4.154579948851879\n"
     ]
    }
   ],
   "source": [
    "inicial=10000\n",
    "tasa=.3\n",
    "prestamo=inicial*tasa\n",
    "tasaint=.05\n",
    "\n",
    "disponible = inicial+prestamo\n",
    "rendimiento=np.random.normal(.12,.20)\n",
    "\n",
    "subtotal=rendimiento*disponible+disponible\n",
    "pagoprestamo=prestamo+tasaint*prestamo\n",
    "\n",
    "montofinal=subtotal-pagoprestamo\n",
    "rendimiento=(montofinal-inicial)/inicial\n",
    "\n",
    "print ('monto inicial:',str(inicial))\n",
    "print ('pedí prestado:',str(prestamo))\n",
    "print ('invertí:',str(disponible))\n",
    "print ('termine con:',str(subtotal))\n",
    "print ('pago préstamo:',str(pagoprestamo))\n",
    "print ('monto final:',str(montofinal))\n",
    "print ('rendimiento:',str(rendimiento*100))"
   ]
  },
  {
   "cell_type": "code",
   "execution_count": 18,
   "metadata": {},
   "outputs": [],
   "source": [
    "def sp500():\n",
    "    inicial=10000\n",
    "    tasa=.3\n",
    "    prestamo=inicial*tasa\n",
    "    tasaint=.05\n",
    "\n",
    "    disponible = inicial+prestamo\n",
    "    rendimiento=np.random.normal(.12,.20)\n",
    "\n",
    "    subtotal=rendimiento*disponible+disponible\n",
    "    pagoprestamo=prestamo+tasaint*prestamo\n",
    "\n",
    "    montofinal=subtotal-pagoprestamo\n",
    "    rendimiento=(montofinal-inicial)/inicial\n",
    "    return rendimiento\n",
    "\n"
   ]
  },
  {
   "cell_type": "code",
   "execution_count": 24,
   "metadata": {},
   "outputs": [
    {
     "name": "stdout",
     "output_type": "stream",
     "text": [
      "rendimiento promedio:13.7510451019%\n",
      "rendimiento tiene volatilidad:26.3182462261%\n"
     ]
    }
   ],
   "source": [
    "n=10000\n",
    "rendimientos=np.zeros(n)\n",
    "for i,j in enumerate (rendimientos):\n",
    "    rendimientos[i]=sp500()\n",
    "print ('rendimiento promedio:'+str(np.mean(rendimientos)*100)+'%')\n",
    "print('rendimiento tiene volatilidad:'+str(np.std(rendimientos)*100)+'%')"
   ]
  },
  {
   "cell_type": "code",
   "execution_count": 25,
   "metadata": {},
   "outputs": [
    {
     "data": {
      "image/png": "[encoded data removed]",
      "text/plain": [
       "<matplotlib.figure.Figure at 0x1481d108630>"
      ]
     },
     "metadata": {},
     "output_type": "display_data"
    }
   ],
   "source": [
    "plt.hist(rendimientos,normed=True,bins=100);"
   ]
  },
  {
   "cell_type": "code",
   "execution_count": 28,
   "metadata": {},
   "outputs": [
    {
     "name": "stdout",
     "output_type": "stream",
     "text": [
      "rendimiento promedio:13.99809167%\n",
      "rendimiento tiene volatilidad:25.9920375708%\n"
     ]
    },
    {
     "data": {
      "text/html": [
       "<div>\n",
       "<style>\n",
       "    .dataframe thead tr:only-child th {\n",
       "        text-align: right;\n",
       "    }\n",
       "\n",
       "    .dataframe thead th {\n",
       "        text-align: left;\n",
       "    }\n",
       "\n",
       "    .dataframe tbody tr th {\n",
       "        vertical-align: top;\n",
       "    }\n",
       "</style>\n",
       "<table border=\"1\" class=\"dataframe\">\n",
       "  <thead>\n",
       "    <tr style=\"text-align: right;\">\n",
       "      <th></th>\n",
       "      <th>0</th>\n",
       "      <th>1</th>\n",
       "    </tr>\n",
       "  </thead>\n",
       "  <tbody>\n",
       "    <tr>\n",
       "      <th>68%</th>\n",
       "      <td>-0.119939</td>\n",
       "      <td>0.399901</td>\n",
       "    </tr>\n",
       "    <tr>\n",
       "      <th>95%</th>\n",
       "      <td>-0.379860</td>\n",
       "      <td>0.659822</td>\n",
       "    </tr>\n",
       "    <tr>\n",
       "      <th>99%</th>\n",
       "      <td>-0.639780</td>\n",
       "      <td>0.919742</td>\n",
       "    </tr>\n",
       "  </tbody>\n",
       "</table>\n",
       "</div>"
      ],
      "text/plain": [
       "            0         1\n",
       "68% -0.119939  0.399901\n",
       "95% -0.379860  0.659822\n",
       "99% -0.639780  0.919742"
      ]
     },
     "execution_count": 28,
     "metadata": {},
     "output_type": "execute_result"
    },
    {
     "data": {
      "image/png": "[encoded data removed]",
      "text/plain": [
       "<matplotlib.figure.Figure at 0x1481d67bcc0>"
      ]
     },
     "metadata": {},
     "output_type": "display_data"
    }
   ],
   "source": [
    "n=10000\n",
    "rendimientos=np.zeros(n)\n",
    "for i,j in enumerate (rendimientos):\n",
    "    rendimientos[i]=sp500()\n",
    "print ('rendimiento promedio:'+str(np.mean(rendimientos)*100)+'%')\n",
    "print('rendimiento tiene volatilidad:'+str(np.std(rendimientos)*100)+'%')\n",
    "plt.hist(rendimientos,normed=True,bins=100);\n",
    "u=np.mean(rendimientos)\n",
    "std=np.std(rendimientos)\n",
    "df=pd.DataFrame([[u-std,u+std],[u-2*std,u+2*std],[u-3*std,u+3*std]])\n",
    "df.index=['68%','95%','99%']\n",
    "df"
   ]
  },
  {
   "cell_type": "code",
   "execution_count": null,
   "metadata": {
    "collapsed": true
   },
   "outputs": [],
   "source": []
  }
 ],
 "metadata": {
  "kernelspec": {
   "display_name": "Python 3",
   "language": "python",
   "name": "python3"
  },
  "language_info": {
   "codemirror_mode": {
    "name": "ipython",
    "version": 3
   },
   "file_extension": ".py",
   "mimetype": "text/x-python",
   "name": "python",
   "nbconvert_exporter": "python",
   "pygments_lexer": "ipython3",
   "version": "3.6.1"
  }
 },
 "nbformat": 4,
 "nbformat_minor": 2
}
