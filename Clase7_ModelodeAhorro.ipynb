{
 "cells": [
  {
   "cell_type": "code",
   "execution_count": 1,
   "metadata": {},
   "outputs": [
    {
     "name": "stdout",
     "output_type": "stream",
     "text": [
      "El número de periodos que se debe dejar invertido el dinero es 13. Al final del periodo 13, el capital es 11040.0.\n"
     ]
    }
   ],
   "source": [
    "import numpy as np\n",
    "C_0, meta, i = 10000, 11000, 0.008\n",
    "k = np.ceil((meta/C_0 - 1)/i)\n",
    "k = k.astype(int)               # Conversión a entero (para visualización)\n",
    "C_k = C_0*(1+k*i)               # Cálculo del capital al final del periodo k\n",
    "C_k = round(C_k, 2)             # Redondeo con dos cifras decimales\n",
    "\n",
    "# Imprimimos respuesta en pantalla\n",
    "print(\"El número de periodos que se debe dejar invertido el dinero es \", k,\". Al final del periodo \", k,\n",
    "      \", el capital es \", C_k, \".\", sep=\"\")"
   ]
  },
  {
   "cell_type": "code",
   "execution_count": 2,
   "metadata": {},
   "outputs": [
    {
     "data": {
      "application/vnd.jupyter.widget-view+json": {
       "model_id": "13f2b950ce79487ebb8c5839ad639fec"
      }
     },
     "metadata": {},
     "output_type": "display_data"
    }
   ],
   "source": [
    "# Librerías para gráficos\n",
    "import matplotlib.pyplot as plt\n",
    "# Para que se muestren las gráficas en la misma ventana\n",
    "%matplotlib inline\n",
    "# Librería para widgets de jupyter\n",
    "from ipywidgets import *\n",
    "\n",
    "def interes_simple(C_0, meta, i):\n",
    "    # Despejamos k\n",
    "    k = np.ceil((meta/C_0 - 1)/i)           # Notar el uso de la función ceil\n",
    "    k = k.astype(int)                       # Conversión a entero\n",
    "    C_k = C_0*(1+k*i)                       # Cálculo del capital al final del periodo k\n",
    "    C_k = round(C_k, 2)                     # Redondeo con dos cifras decimales\n",
    "    # Vector de periodos\n",
    "    kk = np.linspace(0,k,k+1)               \n",
    "    # Vector de capitales por periodo\n",
    "    CC = C_0*(1+kk*i)\n",
    "    # Gráfico\n",
    "    plt.figure(num=1); plt.clf()            # Figura 1, borrar lo que contenga\n",
    "    plt.plot(kk, CC,'*',linewidth=3.0)      # Se grafica la evolución de los capitales\n",
    "    plt.plot(kk,meta*np.ones(k+1),'--k')    # Se grafica la meta\n",
    "    plt.xlabel('k')                         # Etiqueta eje x\n",
    "    plt.ylabel('C_k')                       # Etiqueta eje y\n",
    "    plt.grid(True)                          # Malla en la gráfica\n",
    "    plt.show()                              # Mostrar la figura\n",
    "    print(\"El número de periodos que se debe dejar invertido el dinero para llegar a la meta de \", meta,\" es \", k,\n",
    "          \". Al final del periodo \", k,\", el capital es \", C_k, \".\", sep=\"\")\n",
    "    \n",
    "interact_manual(interes_simple, C_0=fixed(10000), meta=(10000,12000,100), i=fixed(0.008));"
   ]
  },
  {
   "cell_type": "code",
   "execution_count": 3,
   "metadata": {},
   "outputs": [
    {
     "data": {
      "application/vnd.jupyter.widget-view+json": {
       "model_id": "a69074e165c94e668873fd35f72fe7db"
      }
     },
     "metadata": {},
     "output_type": "display_data"
    }
   ],
   "source": [
    "def interes_compuesto(C_0, meta, i):\n",
    "    # Despejamos k\n",
    "    k = np.ceil(np.log(meta/C_0)/np.log(1+i))\n",
    "    k = k.astype(int)\n",
    "    C_k = C_0*(1+i)**k                      # Cálculo del capital al final del periodo k\n",
    "    C_k = round(C_k,2)                      # Redondeo con dos cifras decimales\n",
    "    # Vector de periodos\n",
    "    kk = np.linspace(0,k,k+1)\n",
    "    # Vector de capitales por periodo\n",
    "    CC = C_0*(1+i)**kk\n",
    "    # Gráfico\n",
    "    plt.figure(num=1); plt.clf()            # Figura 1, borrar lo que contenga\n",
    "    plt.plot(kk, CC,'*',linewidth=3.0)      # Se grafica la evolución de los capitales\n",
    "    plt.plot(kk,meta*np.ones(k+1),'--k')    # Se grafica la meta\n",
    "    plt.xlabel('k')                         # Etiqueta eje x\n",
    "    plt.ylabel('C_k')                       # Etiqueta eje y\n",
    "    plt.grid(True)                          # Malla en la gráfica\n",
    "    plt.show()                              # Mostrar la figura\n",
    "    print(\"El número de periodos que se debe dejar invertido el dinero para llegar a la meta de \", meta,\" es \", k,\n",
    "          \". Al final del periodo \", k,\", el capital es \", C_k, \".\", sep=\"\")\n",
    "    \n",
    "interact_manual(interes_compuesto, C_0=fixed(10000), meta=(10000,12000,100), i=fixed(0.008));"
   ]
  },
  {
   "cell_type": "code",
   "execution_count": 4,
   "metadata": {
    "collapsed": true
   },
   "outputs": [],
   "source": [
    "# Librería de cálculo simbólico\n",
    "import sympy as sym\n",
    "\n",
    "# Para imprimir en formato TeX\n",
    "from sympy import init_printing; init_printing(use_latex='mathjax')\n",
    "from IPython.display import display\n",
    "\n",
    "# Símbolos t(para el tiempo) y r(para el interés instantáneo)\n",
    "#t, r = sym.symbols('t r')\n",
    "# Otra forma de hacer lo anterior\n",
    "sym.var('t r')\n",
    "\n",
    "C = sym.Function('C')"
   ]
  },
  {
   "cell_type": "code",
   "execution_count": 5,
   "metadata": {},
   "outputs": [
    {
     "data": {
      "text/latex": [
       "$$- r C{\\left (t \\right )} + \\frac{d}{d t} C{\\left (t \\right )} = 0$$"
      ],
      "text/plain": [
       "          d           \n",
       "-r⋅C(t) + ──(C(t)) = 0\n",
       "          dt          "
      ]
     },
     "metadata": {},
     "output_type": "display_data"
    },
    {
     "data": {
      "text/latex": [
       "$$C{\\left (t \\right )} = C_{1} e^{r t}$$"
      ],
      "text/plain": [
       "           r⋅t\n",
       "C(t) = C₁⋅ℯ   "
      ]
     },
     "execution_count": 5,
     "metadata": {},
     "output_type": "execute_result"
    }
   ],
   "source": [
    "eqn = sym.Eq(sym.Derivative(C(t),t) - r*C(t), 0) # Ecuación diferencial\n",
    "display(eqn) # Mostrar ecuación\n",
    "sym.dsolve(eqn, C(t)) # Resolver"
   ]
  },
  {
   "cell_type": "code",
   "execution_count": 6,
   "metadata": {
    "collapsed": true
   },
   "outputs": [],
   "source": [
    "# Librerías para integración numérica\n",
    "from scipy.integrate import odeint\n",
    "\n",
    "# Modelo de capitalización continua\n",
    "def cap_continua(C, t, r):\n",
    "    return r * C"
   ]
  },
  {
   "cell_type": "code",
   "execution_count": 7,
   "metadata": {},
   "outputs": [
    {
     "data": {
      "application/vnd.jupyter.widget-view+json": {
       "model_id": "01989787a95f48f7a588532d4418f621"
      }
     },
     "metadata": {},
     "output_type": "display_data"
    }
   ],
   "source": [
    "def interes_continuo(C_0, meta, r):\n",
    "    # Despejamos t\n",
    "    t = np.log(meta/C_0)/r\n",
    "    # Vector de periodos\n",
    "    tt = np.linspace(0,t,100)\n",
    "    # Vector de capitales por periodo\n",
    "    CC = odeint(cap_continua, C_0, tt, args = (r,))\n",
    "    # Gráfico\n",
    "    plt.figure(num=1); plt.clf()                # Figura 1, borrar lo que contenga\n",
    "    plt.plot(tt, CC,'-',linewidth=3.0)          # Se grafica la evolución de los capitales\n",
    "    plt.plot(tt,meta*np.ones(len(tt)),'--k')    # Se grafica la meta\n",
    "    plt.xlabel('t')                             # Etiqueta eje x\n",
    "    plt.ylabel('C(t)')                          # Etiqueta eje y\n",
    "    plt.grid(True)                              # Malla en la gráfica\n",
    "    plt.show()                                  # Mostrar la figura\n",
    "    \n",
    "interact_manual(interes_continuo, C_0=fixed(10000), meta=(10000,20000,100), r=fixed(np.log(1+i)));"
   ]
  },
  {
   "cell_type": "code",
   "execution_count": 8,
   "metadata": {},
   "outputs": [
    {
     "data": {
      "text/html": [
       "<div>\n",
       "<style>\n",
       "    .dataframe thead tr:only-child th {\n",
       "        text-align: right;\n",
       "    }\n",
       "\n",
       "    .dataframe thead th {\n",
       "        text-align: left;\n",
       "    }\n",
       "\n",
       "    .dataframe tbody tr th {\n",
       "        vertical-align: top;\n",
       "    }\n",
       "</style>\n",
       "<table border=\"1\" class=\"dataframe\">\n",
       "  <thead>\n",
       "    <tr style=\"text-align: right;\">\n",
       "      <th></th>\n",
       "      <th>Fecha del abono</th>\n",
       "      <th>Abono</th>\n",
       "      <th>Balance</th>\n",
       "    </tr>\n",
       "    <tr>\n",
       "      <th>Periodo</th>\n",
       "      <th></th>\n",
       "      <th></th>\n",
       "      <th></th>\n",
       "    </tr>\n",
       "  </thead>\n",
       "  <tbody>\n",
       "    <tr>\n",
       "      <th>1</th>\n",
       "      <td>2018-02-01</td>\n",
       "      <td>3319.71</td>\n",
       "      <td>13403.04</td>\n",
       "    </tr>\n",
       "    <tr>\n",
       "      <th>2</th>\n",
       "      <td>2018-03-01</td>\n",
       "      <td>3319.71</td>\n",
       "      <td>16834.45</td>\n",
       "    </tr>\n",
       "    <tr>\n",
       "      <th>3</th>\n",
       "      <td>2018-04-01</td>\n",
       "      <td>3319.71</td>\n",
       "      <td>20294.44</td>\n",
       "    </tr>\n",
       "    <tr>\n",
       "      <th>4</th>\n",
       "      <td>2018-05-01</td>\n",
       "      <td>3319.71</td>\n",
       "      <td>23783.27</td>\n",
       "    </tr>\n",
       "    <tr>\n",
       "      <th>5</th>\n",
       "      <td>2018-06-01</td>\n",
       "      <td>3319.71</td>\n",
       "      <td>27301.18</td>\n",
       "    </tr>\n",
       "    <tr>\n",
       "      <th>6</th>\n",
       "      <td>2018-07-01</td>\n",
       "      <td>3319.71</td>\n",
       "      <td>30848.40</td>\n",
       "    </tr>\n",
       "    <tr>\n",
       "      <th>7</th>\n",
       "      <td>2018-08-01</td>\n",
       "      <td>3319.71</td>\n",
       "      <td>34425.18</td>\n",
       "    </tr>\n",
       "    <tr>\n",
       "      <th>8</th>\n",
       "      <td>2018-09-01</td>\n",
       "      <td>3319.71</td>\n",
       "      <td>38031.76</td>\n",
       "    </tr>\n",
       "    <tr>\n",
       "      <th>9</th>\n",
       "      <td>2018-10-01</td>\n",
       "      <td>3319.71</td>\n",
       "      <td>41668.40</td>\n",
       "    </tr>\n",
       "    <tr>\n",
       "      <th>10</th>\n",
       "      <td>2018-11-01</td>\n",
       "      <td>3319.71</td>\n",
       "      <td>45335.35</td>\n",
       "    </tr>\n",
       "    <tr>\n",
       "      <th>11</th>\n",
       "      <td>2018-12-01</td>\n",
       "      <td>3319.71</td>\n",
       "      <td>49032.86</td>\n",
       "    </tr>\n",
       "    <tr>\n",
       "      <th>12</th>\n",
       "      <td>2019-01-01</td>\n",
       "      <td>3319.71</td>\n",
       "      <td>52761.17</td>\n",
       "    </tr>\n",
       "    <tr>\n",
       "      <th>13</th>\n",
       "      <td>2019-02-01</td>\n",
       "      <td>3319.71</td>\n",
       "      <td>56520.56</td>\n",
       "    </tr>\n",
       "    <tr>\n",
       "      <th>14</th>\n",
       "      <td>2019-03-01</td>\n",
       "      <td>3319.71</td>\n",
       "      <td>60311.27</td>\n",
       "    </tr>\n",
       "    <tr>\n",
       "      <th>15</th>\n",
       "      <td>2019-04-01</td>\n",
       "      <td>3319.71</td>\n",
       "      <td>64133.58</td>\n",
       "    </tr>\n",
       "    <tr>\n",
       "      <th>16</th>\n",
       "      <td>2019-05-01</td>\n",
       "      <td>3319.71</td>\n",
       "      <td>67987.73</td>\n",
       "    </tr>\n",
       "    <tr>\n",
       "      <th>17</th>\n",
       "      <td>2019-06-01</td>\n",
       "      <td>3319.71</td>\n",
       "      <td>71874.01</td>\n",
       "    </tr>\n",
       "    <tr>\n",
       "      <th>18</th>\n",
       "      <td>2019-07-01</td>\n",
       "      <td>3319.71</td>\n",
       "      <td>75792.67</td>\n",
       "    </tr>\n",
       "    <tr>\n",
       "      <th>19</th>\n",
       "      <td>2019-08-01</td>\n",
       "      <td>3319.71</td>\n",
       "      <td>79743.99</td>\n",
       "    </tr>\n",
       "    <tr>\n",
       "      <th>20</th>\n",
       "      <td>2019-09-01</td>\n",
       "      <td>3319.71</td>\n",
       "      <td>83728.23</td>\n",
       "    </tr>\n",
       "    <tr>\n",
       "      <th>21</th>\n",
       "      <td>2019-10-01</td>\n",
       "      <td>3319.71</td>\n",
       "      <td>87745.67</td>\n",
       "    </tr>\n",
       "    <tr>\n",
       "      <th>22</th>\n",
       "      <td>2019-11-01</td>\n",
       "      <td>3319.71</td>\n",
       "      <td>91796.60</td>\n",
       "    </tr>\n",
       "    <tr>\n",
       "      <th>23</th>\n",
       "      <td>2019-12-01</td>\n",
       "      <td>3319.71</td>\n",
       "      <td>95881.28</td>\n",
       "    </tr>\n",
       "    <tr>\n",
       "      <th>24</th>\n",
       "      <td>2020-01-01</td>\n",
       "      <td>3319.71</td>\n",
       "      <td>100000.00</td>\n",
       "    </tr>\n",
       "  </tbody>\n",
       "</table>\n",
       "</div>"
      ],
      "text/plain": [
       "        Fecha del abono    Abono    Balance\n",
       "Periodo                                    \n",
       "1            2018-02-01  3319.71   13403.04\n",
       "2            2018-03-01  3319.71   16834.45\n",
       "3            2018-04-01  3319.71   20294.44\n",
       "4            2018-05-01  3319.71   23783.27\n",
       "5            2018-06-01  3319.71   27301.18\n",
       "6            2018-07-01  3319.71   30848.40\n",
       "7            2018-08-01  3319.71   34425.18\n",
       "8            2018-09-01  3319.71   38031.76\n",
       "9            2018-10-01  3319.71   41668.40\n",
       "10           2018-11-01  3319.71   45335.35\n",
       "11           2018-12-01  3319.71   49032.86\n",
       "12           2019-01-01  3319.71   52761.17\n",
       "13           2019-02-01  3319.71   56520.56\n",
       "14           2019-03-01  3319.71   60311.27\n",
       "15           2019-04-01  3319.71   64133.58\n",
       "16           2019-05-01  3319.71   67987.73\n",
       "17           2019-06-01  3319.71   71874.01\n",
       "18           2019-07-01  3319.71   75792.67\n",
       "19           2019-08-01  3319.71   79743.99\n",
       "20           2019-09-01  3319.71   83728.23\n",
       "21           2019-10-01  3319.71   87745.67\n",
       "22           2019-11-01  3319.71   91796.60\n",
       "23           2019-12-01  3319.71   95881.28\n",
       "24           2020-01-01  3319.71  100000.00"
      ]
     },
     "execution_count": 8,
     "metadata": {},
     "output_type": "execute_result"
    }
   ],
   "source": [
    "# Librería de análisis de datos\n",
    "import pandas as pd\n",
    "# Librería para manipulación de fechas\n",
    "from datetime import date\n",
    "\n",
    "# Datos para la cuenta de ahorro\n",
    "Tasa_interes = 0.1\n",
    "Anos = 2\n",
    "Abonos_ano = 12\n",
    "Inicial = 10000\n",
    "Meta = 100000\n",
    "fecha_inicio = (date(2018,1,31))\n",
    "\n",
    "# Cálculo de abonos mensuales iguales para llegar a la meta de ahorro en el tiempo deseado\n",
    "Abono = (Tasa_interes/Abonos_ano)*(Meta - Inicial*(1+Tasa_interes/Abonos_ano)**(Anos*Abonos_ano))/((1+Tasa_interes/Abonos_ano)**(Anos*Abonos_ano)-1)\n",
    "\n",
    "# Rango de fechas en la tabla\n",
    "rng = pd.date_range(fecha_inicio, periods=Anos*Abonos_ano, freq='MS')\n",
    "rng.name = \"Fecha del abono\"\n",
    "\n",
    "# Columnas de abonos y extracto de cuenta en las fechas respectivas\n",
    "df = pd.DataFrame(index=rng,columns=['Abono', 'Balance'], dtype='float')\n",
    "df.reset_index(inplace=True)\n",
    "df.index += 1\n",
    "df.index.name = \"Periodo\"  # Columna correspondiente al periodo\n",
    "\n",
    "# Los abonos son iguales\n",
    "df[\"Abono\"] = Abono\n",
    "\n",
    "# Vector indizador de los periodos de los abonos\n",
    "index_vector = np.arange(1,len(rng)+1)\n",
    "# Extracto de la cuenta mes a mes\n",
    "df[\"Balance\"] = Inicial*(1+Tasa_interes/Abonos_ano)**index_vector+Abono*(((1+Tasa_interes/Abonos_ano)**index_vector-1)/(Tasa_interes/Abonos_ano))\n",
    "\n",
    "# Redondear con dos cifras decimales\n",
    "df = df.round(2)\n",
    "df\n",
    "\n",
    "# La siguiente solución es también válida. Sin embargo, evitar el uso de 'for'\n",
    "\n",
    "#df.loc[1, \"Balance\"] = Inicial*(1+Tasa_interes/Abonos_ano)**1 + df.loc[1, \"Abono\"]\n",
    "\n",
    "#for i in range(2, len(df)+1):\n",
    "#    # Get the previous balance as well as current payments\n",
    "#    prev_balance = df.loc[i-1, \"Balance\"]\n",
    "\n",
    "#    df.loc[i, \"Balance\"] = prev_balance*(1+Tasa_interes/Abonos_ano)**1 + df.loc[i, \"Abono\"]"
   ]
  },
  {
   "cell_type": "code",
   "execution_count": 9,
   "metadata": {},
   "outputs": [
    {
     "data": {
      "text/plain": [
       "<matplotlib.axes._subplots.AxesSubplot at 0x133bd083588>"
      ]
     },
     "execution_count": 9,
     "metadata": {},
     "output_type": "execute_result"
    },
    {
     "data": {
      "image/png": "[encoded data removed]",
      "text/plain": [
       "<matplotlib.figure.Figure at 0x133baeed128>"
      ]
     },
     "metadata": {},
     "output_type": "display_data"
    }
   ],
   "source": [
    "\n",
    "df.plot()"
   ]
  },
  {
   "cell_type": "code",
   "execution_count": 14,
   "metadata": {
    "collapsed": true
   },
   "outputs": [],
   "source": [
    "excel = pd.ExcelWriter(\"TablaAbonos.xlsx\")\n",
    "df.to_excel(excel,\"Hoja 1\")\n",
    "excel.save()"
   ]
  },
  {
   "cell_type": "code",
   "execution_count": null,
   "metadata": {
    "collapsed": true
   },
   "outputs": [],
   "source": []
  }
 ],
 "metadata": {
  "kernelspec": {
   "display_name": "Python 3",
   "language": "python",
   "name": "python3"
  },
  "language_info": {
   "codemirror_mode": {
    "name": "ipython",
    "version": 3
   },
   "file_extension": ".py",
   "mimetype": "text/x-python",
   "name": "python",
   "nbconvert_exporter": "python",
   "pygments_lexer": "ipython3",
   "version": "3.6.1"
  }
 },
 "nbformat": 4,
 "nbformat_minor": 2
}
