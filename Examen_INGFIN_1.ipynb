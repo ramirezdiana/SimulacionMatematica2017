{
 "cells": [
  {
   "cell_type": "markdown",
   "metadata": {},
   "source": [
    "# Examen Módulo 1 - Ecuaciones diferenciales. <font color =blue> Tipo de examen 1.  </font>\n",
    "\n",
    "Lea cuidadosamente las siguientes indicaciones antes de comenzar el examen:\n",
    "\n",
    "- Para resolver el examen edite este mismo archivo y renómbrelo de la siguiente manera: *Examen1_ApellidoNombre*, donde *ApellidoNombre* corresponde a su apellido paterno con la inicial en mayúscula, seguido de su primer nombre con la inicial en mayúscula **sin acentos**. Por ejemplo, en mi caso el nombre del archivo sería Examen1_LopezMichel.\n",
    "- Resuelva los puntos en el espacio provisto. Si requiere agregar más celdas para código o escritura, hágalo.\n",
    "- Recuerde que también se está evaluando su capacidad de interpretar los resultados. Escriba sus interpretaciones/conclusiones en celdas utilizando *Markdown*.\n",
    "- El formato de presentación de todo el examen en general debe ser adecuado. Use tamaños de letra, colores, etiquetas, etcétera.\n",
    "- No se resuelven dudas de ningún tipo por los profesores de la asignatura. Por favor, absténgase de preguntar.\n",
    "- Revise bien el tipo de examen. Sólo se le calificará si realiza el tipo de examen asignado."
   ]
  },
  {
   "cell_type": "markdown",
   "metadata": {},
   "source": [
    "# Las cosas del amor.\n",
    "\n",
    "Consideramos un modelo simple de la dinámica del amor/odio en una pareja, propuesto por Strogatz en 1988.\n",
    "\n",
    "- Strogatz, S.H. (1988) *Love affairs and differential equations*, Math. Magazine 61, 35."
   ]
  },
  {
   "cell_type": "markdown",
   "metadata": {},
   "source": [
    "### Primer punto (50 puntos).\n",
    "\n",
    "Romeo está enamorado de Julieta, pero en este caso, Julieta tiene sentimientos volubles. Mientras Romeo más la ama, ella quiere huir de él. Pero cuando Romeo no muestra atención, Julieta lo empieza a ver muy atractivo.\n",
    "\n",
    "Del otro lado, Romeo tiene sentimientos imitativos. Esto quiere decir que se pone cariñoso cuando ella lo ama y se vuelve frío cuando ella lo odia.\n",
    "\n",
    "Sean:\n",
    "\n",
    "- $x_1(t)$ : amor/odio de Romeo hacia Julieta en el tiempo  $t$ .\n",
    "- $x_2(t)$ : amor/odio de Julieta hacia Romeo en el tiempo  $t$ .\n",
    "\n",
    "Consideraremos que un valor positivo de  $x_1$  o  $x_2$  corresponde a amor, y que un valor negativo corresponde a odio.\n",
    "\n",
    "Un modelo del romance anteriormente descrito es\n",
    "$$ \\frac{dx_1}{dt}=ax_2,$$\n",
    "$$ \\frac{dx_2}{dt}=−bx_1$$\n",
    " \n",
    "con  $a$  y  $b$  constantes positivas. Definimos  $x=[x_1,x_2]^T.\n",
    "\n",
    "1. (20 puntos) Simular este sistema eligiendo los parámetros  $a=b=1$  y condiciones iniciales  $x(0)=[x1(0),x2(0)]^T=[5,5]^T$, usando un vector de tiempo de $0$ a $50$ (unidades de tiempo).\n",
    "2. (15 puntos)\n",
    "    - (10 puntos) Graficar las soluciones en el tiempo, es decir,  $x_1$  vs. $t$  y  $x_2$ vs  $t$.  \n",
    "    - (5 puntos) ¿Qué forma tienen dichas soluciones? ¿Qué se puede decir del amor/odio de Romeo hacia Julieta? ¿Qué se puede decir del amor/odio de Julieta hacia Romeo?\n",
    "3. (15 puntos)\n",
    "    - (10 puntos) Graficar el retrato de fase, es decir,  $x_2$  vs  $x_1$.\n",
    "    - (5 puntos) ¿Cómo es el amor de Romeo y Julieta? ¿Considera usted sano este tipo de amor?"
   ]
  },
  {
   "cell_type": "code",
   "execution_count": null,
   "metadata": {
    "collapsed": true
   },
   "outputs": [],
   "source": []
  },
  {
   "cell_type": "code",
   "execution_count": null,
   "metadata": {
    "collapsed": true
   },
   "outputs": [],
   "source": []
  },
  {
   "cell_type": "code",
   "execution_count": null,
   "metadata": {
    "collapsed": true
   },
   "outputs": [],
   "source": []
  },
  {
   "cell_type": "code",
   "execution_count": null,
   "metadata": {
    "collapsed": true
   },
   "outputs": [],
   "source": []
  },
  {
   "cell_type": "code",
   "execution_count": null,
   "metadata": {
    "collapsed": true
   },
   "outputs": [],
   "source": []
  },
  {
   "cell_type": "markdown",
   "metadata": {},
   "source": [
    "### Segundo punto.\n",
    "En este punto consideraremos a Romeo y a Julieta como dos amantes cautelosos idénticos.\n",
    "\n",
    "Entonces, un modelo que describe este romance es\n",
    "\n",
    "$$\\frac{dx_1}{dt} = -ax_1 + bx_2$$\n",
    "$$\\frac{dx_2}{dt} = bx_1 -ax_2$$\n",
    " \n",
    "con  $a$  y  $b$  constantes positivas. Definimos  $x=[x_1,x_2]^T$.\n",
    "\n",
    "Simular este sistema y obtener gráficas de  $x_1$  vs.  $t$ ,  $x_2$  vs.  $t$ y  $x_2$  vs.  $x_1$  en cada uno de los siguientes casos. Además, concluya acerca de cómo es el amor entre Romeo y Julieta cuando  $t \\rightarrow \\infty$.\n",
    "\n",
    "\n",
    "1. (25 puntos) Para  $a=2$  y  $b=1$.\n",
    "\n",
    "    - $x(0)=[x_1(0),x_2(0)]^T =[2,1]^T$.\n",
    "    - $x(0)=[x_1(0),x_2(0)]^T =[−2,1]^T$.\n",
    "    - $x(0)=[x_1(0),x_2(0)]^T =[−2,−1]^T$.\n",
    "    - $x(0)=[x_1(0),x_2(0)]^T =[2,−1]^T$.\n",
    "2. (25 puntos) Para  $a=1$  y  $b=2$.\n",
    "    - $x(0)=[x_1(0),x_2(0)]T=[2,1]^T$.\n",
    "    - $x(0)=[x_1(0),x_2(0)]T=[−2,1]^T$.\n",
    "    - $x(0)=[x_1(0),x_2(0)]T=[−2,−1]^T$.\n",
    "    - $x(0)=[x_1(0),x_2(0)]T=[2,−1]^T$."
   ]
  },
  {
   "cell_type": "code",
   "execution_count": null,
   "metadata": {
    "collapsed": true
   },
   "outputs": [],
   "source": []
  }
 ],
 "metadata": {
  "kernelspec": {
   "display_name": "Python 3",
   "language": "python",
   "name": "python3"
  },
  "language_info": {
   "codemirror_mode": {
    "name": "ipython",
    "version": 3
   },
   "file_extension": ".py",
   "mimetype": "text/x-python",
   "name": "python",
   "nbconvert_exporter": "python",
   "pygments_lexer": "ipython3",
   "version": "3.5.2"
  }
 },
 "nbformat": 4,
 "nbformat_minor": 2
}
